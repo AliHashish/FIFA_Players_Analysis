{
 "cells": [
  {
   "cell_type": "code",
   "execution_count": 20,
   "metadata": {},
   "outputs": [],
   "source": [
    "import os\n",
    "import numpy as np\n",
    "import pandas as pd\n",
    "import threading\n",
    "from tqdm import tqdm"
   ]
  },
  {
   "cell_type": "code",
   "execution_count": 21,
   "metadata": {},
   "outputs": [
    {
     "name": "stdout",
     "output_type": "stream",
     "text": [
      "158581\n"
     ]
    }
   ],
   "source": [
    "dataset = \"male_players (legacy)_23\"\n",
    "# dataset = \"female_players (legacy)_23\"\n",
    "# df = pd.read_csv('Data/Preprocessed/Normalized_'+dataset+'.csv')\n",
    "df = pd.read_csv('Data/Preprocessed/Clean_'+dataset+'.csv')\n",
    "print(len(df))"
   ]
  },
  {
   "cell_type": "code",
   "execution_count": 22,
   "metadata": {},
   "outputs": [],
   "source": [
    "# Selecting the features\n",
    "selected_features = ['movement_reactions', 'potential', 'wage_eur', 'mentality_composure', 'value_eur', 'rcm', 'cm', 'lcm', 'attacking_short_passing', 'mentality_vision', 'ram', 'cam', 'lam', 'international_reputation', 'skill_long_passing']\n",
    "label = 'overall'\n",
    "# Drop other columns\n",
    "df = df[[label] + selected_features ]"
   ]
  },
  {
   "cell_type": "code",
   "execution_count": 23,
   "metadata": {},
   "outputs": [
    {
     "name": "stdout",
     "output_type": "stream",
     "text": [
      "Train size: 111006\n",
      "Validation size: 31716\n",
      "Test size: 15859\n",
      "\n",
      "Train ratio: 70%\n",
      "Validation ratio: 20%\n",
      "Test ratio: 10%\n"
     ]
    }
   ],
   "source": [
    "from sklearn.model_selection import train_test_split\n",
    "\n",
    "# split the dataset into train, test, and validation sets\n",
    "# splitting into 70% train, 20% validation and 10% test\n",
    "train, test = train_test_split(df, test_size=0.1, random_state=42)\n",
    "train, val = train_test_split(train, test_size=2/9, random_state=42)\n",
    "\n",
    "print(f\"Train size: {len(train)}\\nValidation size: {len(val)}\\nTest size: {len(test)}\\n\")\n",
    "print(f\"Train ratio: {round(100*len(train)/len(df))}%\\nValidation ratio: {round(100*len(val)/len(df))}%\\nTest ratio: {round(100*len(test)/len(df))}%\")"
   ]
  },
  {
   "cell_type": "markdown",
   "metadata": {},
   "source": [
    "# First Approach\n",
    "(With local sort)"
   ]
  },
  {
   "cell_type": "code",
   "execution_count": 24,
   "metadata": {},
   "outputs": [],
   "source": [
    "def KNNMapper2(df, point, K, results, i):\n",
    "    # df: A part of the dataset\n",
    "    # point: the point to find the K nearest neighbors for\n",
    "    # K: the number of nearest neighbors\n",
    "\n",
    "    # calculate the distance between the point and all the points in the dataset based on the selected features\n",
    "    df['distance'] = np.sqrt(np.sum((df[selected_features] - point[selected_features])**2, axis=1))\n",
    "    # results[i] = df[['overall', 'distance']]\n",
    "    \n",
    "    # Then sort them locally (merger)\n",
    "    results[i] = df[['overall', 'distance']].sort_values('distance').head(K)\n",
    "\n",
    "def Map2(df, n, point, K):\n",
    "    # df: the whole dataset\n",
    "    # n: the number of threads\n",
    "    # point: the point to find the K nearest neighbors for\n",
    "    # K: the number of nearest neighbors\n",
    "\n",
    "    # split the dataset into n parts\n",
    "    df_split = np.array_split(df, n)\n",
    "\n",
    "    # create a list to store the results\n",
    "    results = [None] * n\n",
    "\n",
    "    # create n threads\n",
    "    threads = []\n",
    "    for i in range(n):\n",
    "        threads.append(threading.Thread(target=KNNMapper2, args=(df_split[i], point, K, results, i)))\n",
    "\n",
    "    # start the threads\n",
    "    for thread in threads:\n",
    "        thread.start()\n",
    "\n",
    "    # wait for all threads to finish\n",
    "    for thread in threads:\n",
    "        thread.join()\n",
    "\n",
    "    return pd.concat(results)\n",
    "\n"
   ]
  },
  {
   "cell_type": "code",
   "execution_count": 25,
   "metadata": {},
   "outputs": [],
   "source": [
    "def Reduce2(overall_distances, K):\n",
    "    # overall_distances: The result of the mapper (has been sorted locally)\n",
    "    # K: the number of nearest neighbors\n",
    "    \n",
    "    # Sort globally and return mean\n",
    "    return np.mean(overall_distances.sort_values('distance').head(K)['overall'])\n"
   ]
  },
  {
   "cell_type": "code",
   "execution_count": 26,
   "metadata": {},
   "outputs": [
    {
     "name": "stdout",
     "output_type": "stream",
     "text": [
      "Predicted value: 59.666666666666664, Actual value: 61.0\n"
     ]
    }
   ],
   "source": [
    "k = 3\n",
    "cores = 8\n",
    "point = val.iloc[0]\n",
    "# Apply mapper on train, this would calculate the distances\n",
    "overall_distances = Map2(train, cores, point, k)\n",
    "\n",
    "# The reducer gets the global K nearest neighbors, and averages their overall values\n",
    "# KNNReducer(df, K, results, i):\n",
    "predicted_value = Reduce2(overall_distances, k)\n",
    "print(f\"Predicted value: {predicted_value}, Actual value: {point['overall']}\")"
   ]
  },
  {
   "cell_type": "code",
   "execution_count": 27,
   "metadata": {},
   "outputs": [],
   "source": [
    "def Evaluate2(train, test, K):\n",
    "    mae = 0; mse = 0; denum = 0\n",
    "    y_mean = train['overall'].mean()\n",
    "    counter = 0\n",
    "    \n",
    "    for point in tqdm(test.iterrows()):\n",
    "        point = point[1]\n",
    "        overall_distances = Map2(train, cores, point, K)\n",
    "        predicted_value = Reduce2(overall_distances, K)\n",
    "\n",
    "        mae += abs(predicted_value - point['overall'])\n",
    "        mse += (predicted_value - point['overall'])**2\n",
    "        denum += (predicted_value - y_mean)**2\n",
    "        counter += 1\n",
    "        if counter == 1000 and len(test) > 20000:\n",
    "            break    \n",
    "    \n",
    "    # mae /= len(test)\n",
    "    # mse /= len(test)\n",
    "    mae /= counter\n",
    "    mse /= counter\n",
    "    r2 = 1 - mse/denum\n",
    "    return mae, mse, r2\n",
    "        "
   ]
  },
  {
   "cell_type": "code",
   "execution_count": 9,
   "metadata": {},
   "outputs": [
    {
     "name": "stdout",
     "output_type": "stream",
     "text": [
      "K: 2, MAE: 1.531, MSE: 4.648, R2: 0.9999058738349448\n",
      "K: 3, MAE: 1.4966666666666641, MSE: 4.238888888888895, R2: 0.9999124548466493\n",
      "K: 4, MAE: 1.49725, MSE: 4.2593125, R2: 0.9999116719254174\n",
      "K: 5, MAE: 1.4944000000000035, MSE: 4.234079999999996, R2: 0.9999118620916351\n",
      "K: 6, MAE: 1.490833333333332, MSE: 4.248861111111124, R2: 0.9999114449103174\n",
      "K: 7, MAE: 1.4931428571428562, MSE: 4.210163265306127, R2: 0.9999118698445584\n",
      "K: 8, MAE: 1.48175, MSE: 4.15340625, R2: 0.9999130918902195\n",
      "K: 9, MAE: 1.4933333333333334, MSE: 4.2021975308642086, R2: 0.9999118431863697\n",
      "K: 10, MAE: 1.4929999999999986, MSE: 4.206239999999999, R2: 0.999911471560353\n",
      "Best K for MAE: 2, MAE: 1.531\n",
      "Best K for MSE: 2, MSE: 4.648\n",
      "Best K for R2: 8, R2: 0.9999130918902195\n"
     ]
    }
   ],
   "source": [
    "# Using validation to find best K\n",
    "K = list(range(2, 11))\n",
    "\n",
    "max_mae = 0; max_mse = 0; max_r2 = -99999\n",
    "max_mae_idx = 0; max_mse_idx = 0; max_r2_idx = 0\n",
    "for k in K:\n",
    "    mae, mse, r2 = Evaluate2(train, val, k)\n",
    "    print(f\"K: {k}, MAE: {mae}, MSE: {mse}, R2: {r2}\")\n",
    "    if r2 > max_r2:\n",
    "        max_r2 = r2\n",
    "        max_r2_idx = k\n",
    "    if mae > max_mae:\n",
    "        max_mae = mae\n",
    "        max_mae_idx = k\n",
    "    if mse > max_mse:\n",
    "        max_mse = mse\n",
    "        max_mse_idx = k\n",
    "\n",
    "print(f\"Best K for MAE: {max_mae_idx}, MAE: {max_mae}\")\n",
    "print(f\"Best K for MSE: {max_mse_idx}, MSE: {max_mse}\")\n",
    "print(f\"Best K for R2: {max_r2_idx}, R2: {max_r2}\")\n",
    "\n",
    "# K: 2, MAE: 1.531, MSE: 4.648, R2: 0.9999058738349448\n",
    "# K: 3, MAE: 1.4966666666666641, MSE: 4.238888888888895, R2: 0.9999124548466493\n",
    "# K: 4, MAE: 1.49725, MSE: 4.2593125, R2: 0.9999116719254174\n",
    "# K: 5, MAE: 1.4944000000000035, MSE: 4.234079999999996, R2: 0.9999118620916351\n",
    "# K: 6, MAE: 1.490833333333332, MSE: 4.248861111111124, R2: 0.9999114449103174\n",
    "# K: 7, MAE: 1.4931428571428562, MSE: 4.210163265306127, R2: 0.9999118698445584\n",
    "# K: 8, MAE: 1.48175, MSE: 4.15340625, R2: 0.9999130918902195\n",
    "# K: 9, MAE: 1.4933333333333334, MSE: 4.2021975308642086, R2: 0.9999118431863697\n",
    "# K: 10, MAE: 1.4929999999999986, MSE: 4.206239999999999, R2: 0.999911471560353\n",
    "# Best K for MAE: 2, MAE: 1.531\n",
    "# Best K for MSE: 2, MSE: 4.648\n",
    "# Best K for R2: 8, R2: 0.9999130918902195"
   ]
  },
  {
   "cell_type": "code",
   "execution_count": 16,
   "metadata": {},
   "outputs": [
    {
     "name": "stdout",
     "output_type": "stream",
     "text": [
      "K: 8, MAE: 1.414945772116779, MSE: 3.87856560155117, R2: 0.9999947740079933\n"
     ]
    }
   ],
   "source": [
    "mae, mse, r2 = Evaluate2(train, test, max_r2_idx)\n",
    "print(f\"K: {max_r2_idx}, MAE: {mae}, MSE: {mse}, R2: {r2}\")\n",
    "# K: 8, MAE: 1.414945772116779, MSE: 3.87856560155117, R2: 0.9999947740079933"
   ]
  },
  {
   "cell_type": "code",
   "execution_count": null,
   "metadata": {},
   "outputs": [],
   "source": []
  },
  {
   "cell_type": "markdown",
   "metadata": {},
   "source": [
    "# Another approach\n",
    "(Without local sort - much slower)"
   ]
  },
  {
   "cell_type": "code",
   "execution_count": 28,
   "metadata": {},
   "outputs": [],
   "source": [
    "def KNNMapper(df, point, K, results, i):\n",
    "    # df: A part of the dataset\n",
    "    # point: the point to find the K nearest neighbors for\n",
    "    # K: the number of nearest neighbors\n",
    "\n",
    "    # calculate the distance between the point and all the points in the dataset based on the selected features\n",
    "    df['distance'] = np.sqrt(np.sum((df[selected_features] - point[selected_features])**2, axis=1))\n",
    "    results[i] = df[['overall', 'distance']]\n",
    "    \n",
    "    # Then sort them locally\n",
    "    # results[i] = df[['overall', 'distance']].sort_values('distance').head(K)\n",
    "\n",
    "def Map(df, n, point, K):\n",
    "    # df: the whole dataset\n",
    "    # n: the number of threads\n",
    "    # point: the point to find the K nearest neighbors for\n",
    "    # K: the number of nearest neighbors\n",
    "\n",
    "    # split the dataset into n parts\n",
    "    df_split = np.array_split(df, n)\n",
    "\n",
    "    # create a list to store the results\n",
    "    results = [None] * n\n",
    "\n",
    "    # create n threads\n",
    "    threads = []\n",
    "    for i in range(n):\n",
    "        threads.append(threading.Thread(target=KNNMapper, args=(df_split[i], point, K, results, i)))\n",
    "\n",
    "    # start the threads\n",
    "    for thread in threads:\n",
    "        thread.start()\n",
    "\n",
    "    # wait for all threads to finish\n",
    "    for thread in threads:\n",
    "        thread.join()\n",
    "\n",
    "    return pd.concat(results)\n",
    "\n"
   ]
  },
  {
   "cell_type": "code",
   "execution_count": 29,
   "metadata": {},
   "outputs": [],
   "source": [
    "def KNNReducer(df, K, results, i):\n",
    "    # df: A part of the dataset\n",
    "    # K: the number of nearest neighbors\n",
    "\n",
    "    # sort the dataset based on the distance (local sort)\n",
    "    df = df.sort_values('distance').head(K)\n",
    "    results[i] = df\n",
    "\n",
    "def Reduce(df, n, K):\n",
    "    # df: the whole dataset\n",
    "    # n: the number of threads\n",
    "    # K: the number of nearest neighbors\n",
    "\n",
    "    # split the dataset into n parts\n",
    "    df_split = np.array_split(df, n)\n",
    "\n",
    "    # create a list to store the results\n",
    "    results = [None] * n\n",
    "\n",
    "    # create n threads\n",
    "    threads = []\n",
    "    for i in range(n):\n",
    "        threads.append(threading.Thread(target=KNNReducer, args=(df_split[i], K, results, i)))\n",
    "    \n",
    "    # start the threads\n",
    "    for thread in threads:\n",
    "        thread.start()\n",
    "\n",
    "    # wait for all threads to finish\n",
    "    for thread in threads:\n",
    "        thread.join()\n",
    "\n",
    "    # Join and sort the results (global sort)\n",
    "    return np.mean(pd.concat(results).sort_values('distance').head(K)['overall'])\n"
   ]
  },
  {
   "cell_type": "code",
   "execution_count": 30,
   "metadata": {},
   "outputs": [
    {
     "name": "stdout",
     "output_type": "stream",
     "text": [
      "Predicted value: 59.666666666666664, Actual value: 61.0\n"
     ]
    }
   ],
   "source": [
    "k = 3\n",
    "cores = 8\n",
    "point = val.iloc[0]\n",
    "# Apply mapper on train, this would calculate the distances\n",
    "overall_distances = Map(train, cores, point, k)\n",
    "# print(overall_distances)\n",
    "\n",
    "# The reducer gets the global K nearest neighbors, and averages their overall values\n",
    "# KNNReducer(df, K, results, i):\n",
    "predicted_value = Reduce(overall_distances, cores, k)\n",
    "print(f\"Predicted value: {predicted_value}, Actual value: {point['overall']}\")"
   ]
  },
  {
   "cell_type": "code",
   "execution_count": 31,
   "metadata": {},
   "outputs": [],
   "source": [
    "def Evaluate(train, test, K):\n",
    "    mae = 0; mse = 0; denum = 0\n",
    "    y_mean = train['overall'].mean()\n",
    "    counter = 0\n",
    "    for point in tqdm(test.iterrows()):\n",
    "\n",
    "        point = point[1]\n",
    "        overall_distances = Map(train, cores, point, K)\n",
    "        predicted_value = Reduce(overall_distances, cores, K)\n",
    "\n",
    "        mae += abs(predicted_value - point['overall'])\n",
    "        mse += (predicted_value - point['overall'])**2\n",
    "        denum += (predicted_value - y_mean)**2\n",
    "        counter += 1\n",
    "        if counter == 1000 and len(test) > 20000:\n",
    "            break\n",
    "    \n",
    "    # mae /= len(test)\n",
    "    # mse /= len(test)\n",
    "    mae /= counter\n",
    "    mse /= counter\n",
    "    r2 = 1 - mse/denum\n",
    "    return mae, mse, r2\n",
    "        "
   ]
  },
  {
   "cell_type": "code",
   "execution_count": 14,
   "metadata": {},
   "outputs": [
    {
     "name": "stdout",
     "output_type": "stream",
     "text": [
      "K: 2, MAE: 1.531, MSE: 4.648, R2: 0.9999058738349448\n",
      "K: 3, MAE: 1.4966666666666641, MSE: 4.238888888888895, R2: 0.9999124548466493\n",
      "K: 4, MAE: 1.49725, MSE: 4.2593125, R2: 0.9999116719254174\n",
      "K: 5, MAE: 1.4944000000000035, MSE: 4.234079999999996, R2: 0.9999118620916351\n",
      "K: 6, MAE: 1.490833333333332, MSE: 4.248861111111124, R2: 0.9999114449103174\n",
      "K: 7, MAE: 1.4931428571428562, MSE: 4.210163265306127, R2: 0.9999118698445584\n",
      "K: 8, MAE: 1.48175, MSE: 4.15340625, R2: 0.9999130918902195\n",
      "K: 9, MAE: 1.4933333333333334, MSE: 4.2021975308642086, R2: 0.9999118431863697\n",
      "K: 10, MAE: 1.4929999999999986, MSE: 4.206239999999999, R2: 0.999911471560353\n",
      "Best K for MAE: 2, MAE: 1.531\n",
      "Best K for MSE: 2, MSE: 4.648\n",
      "Best K for R2: 8, R2: 0.9999130918902195\n"
     ]
    }
   ],
   "source": [
    "# Using validation to find best K\n",
    "K = list(range(2, 11))\n",
    "\n",
    "max_mae = 0; max_mse = 0; max_r2 = -99999\n",
    "max_mae_idx = 0; max_mse_idx = 0; max_r2_idx = 0\n",
    "for k in K:\n",
    "    mae, mse, r2 = Evaluate(train, val, k)\n",
    "    print(f\"K: {k}, MAE: {mae}, MSE: {mse}, R2: {r2}\")\n",
    "    if r2 > max_r2:\n",
    "        max_r2 = r2\n",
    "        max_r2_idx = k\n",
    "    if mae > max_mae:\n",
    "        max_mae = mae\n",
    "        max_mae_idx = k\n",
    "    if mse > max_mse:\n",
    "        max_mse = mse\n",
    "        max_mse_idx = k\n",
    "\n",
    "print(f\"Best K for MAE: {max_mae_idx}, MAE: {max_mae}\")\n",
    "print(f\"Best K for MSE: {max_mse_idx}, MSE: {max_mse}\")\n",
    "print(f\"Best K for R2: {max_r2_idx}, R2: {max_r2}\")\n",
    "\n",
    "# K: 2, MAE: 1.531, MSE: 4.648, R2: 0.9999058738349448\n",
    "# K: 3, MAE: 1.4966666666666641, MSE: 4.238888888888895, R2: 0.9999124548466493\n",
    "# K: 4, MAE: 1.49725, MSE: 4.2593125, R2: 0.9999116719254174\n",
    "# K: 5, MAE: 1.4944000000000035, MSE: 4.234079999999996, R2: 0.9999118620916351\n",
    "# K: 6, MAE: 1.490833333333332, MSE: 4.248861111111124, R2: 0.9999114449103174\n",
    "# K: 7, MAE: 1.4931428571428562, MSE: 4.210163265306127, R2: 0.9999118698445584\n",
    "# K: 8, MAE: 1.48175, MSE: 4.15340625, R2: 0.9999130918902195\n",
    "# K: 9, MAE: 1.4933333333333334, MSE: 4.2021975308642086, R2: 0.9999118431863697\n",
    "# K: 10, MAE: 1.4929999999999986, MSE: 4.206239999999999, R2: 0.999911471560353\n",
    "# Best K for MAE: 2, MAE: 1.531\n",
    "# Best K for MSE: 2, MSE: 4.648\n",
    "# Best K for R2: 8, R2: 0.9999130918902195"
   ]
  },
  {
   "cell_type": "code",
   "execution_count": 36,
   "metadata": {},
   "outputs": [
    {
     "name": "stdout",
     "output_type": "stream",
     "text": [
      "K: 8, MAE: 1.388, MSE: 3.5360625, R2: 0.9999244778575177\n"
     ]
    }
   ],
   "source": [
    "# mae, mse, r2 = Evaluate(train, test, max_r2_idx)\n",
    "print(f\"K: {max_r2_idx}, MAE: {mae}, MSE: {mse}, R2: {r2}\")\n",
    "# K: 8, MAE: 1.388, MSE: 3.5360625, R2: 0.9999244778575177"
   ]
  },
  {
   "cell_type": "code",
   "execution_count": null,
   "metadata": {},
   "outputs": [],
   "source": []
  }
 ],
 "metadata": {
  "kernelspec": {
   "display_name": "Python 3",
   "language": "python",
   "name": "python3"
  },
  "language_info": {
   "codemirror_mode": {
    "name": "ipython",
    "version": 3
   },
   "file_extension": ".py",
   "mimetype": "text/x-python",
   "name": "python",
   "nbconvert_exporter": "python",
   "pygments_lexer": "ipython3",
   "version": "3.10.7"
  }
 },
 "nbformat": 4,
 "nbformat_minor": 2
}
