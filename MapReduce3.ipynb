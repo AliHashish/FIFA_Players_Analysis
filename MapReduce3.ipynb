{
 "cells": [
  {
   "cell_type": "code",
   "execution_count": 5,
   "metadata": {},
   "outputs": [],
   "source": [
    "import os\n",
    "import numpy as np\n",
    "import pandas as pd\n",
    "import threading"
   ]
  },
  {
   "cell_type": "code",
   "execution_count": 6,
   "metadata": {},
   "outputs": [
    {
     "name": "stdout",
     "output_type": "stream",
     "text": [
      "158581\n"
     ]
    }
   ],
   "source": [
    "dataset = \"male_players (legacy)_23\"\n",
    "# dataset = \"female_players (legacy)_23\"\n",
    "# df = pd.read_csv('Data/Preprocessed/Normalized_'+dataset+'.csv')\n",
    "df = pd.read_csv('Data/Preprocessed/Clean_'+dataset+'.csv')\n",
    "print(len(df))"
   ]
  },
  {
   "cell_type": "code",
   "execution_count": 7,
   "metadata": {},
   "outputs": [],
   "source": [
    "# Selecting the features\n",
    "# selected_features = ['wage_eur', 'international_reputation', 'overall', 'potential', 'movement_reactions', 'body_type_Unique', 'mentality_composure', 'rcm', 'cm', 'lcm', 'mentality_vision', 'ram', 'cam', 'lam', 'rm']\n",
    "selected_features = ['wage_eur', 'international_reputation', 'overall']     # These are the most important features\n",
    "label = 'value_eur'\n",
    "\n",
    "# Drop other columns\n",
    "df = df[[label] + selected_features ]"
   ]
  },
  {
   "cell_type": "code",
   "execution_count": 8,
   "metadata": {},
   "outputs": [
    {
     "name": "stdout",
     "output_type": "stream",
     "text": [
      "Train size: 111006\n",
      "Validation size: 31716\n",
      "Test size: 15859\n",
      "\n",
      "Train ratio: 70%\n",
      "Validation ratio: 20%\n",
      "Test ratio: 10%\n"
     ]
    }
   ],
   "source": [
    "from sklearn.model_selection import train_test_split\n",
    "\n",
    "# split the dataset into train, test, and validation sets\n",
    "# splitting into 70% train, 20% validation and 10% test\n",
    "train, test = train_test_split(df, test_size=0.1, random_state=42)\n",
    "train, val = train_test_split(train, test_size=2/9, random_state=42)\n",
    "\n",
    "print(f\"Train size: {len(train)}\\nValidation size: {len(val)}\\nTest size: {len(test)}\\n\")\n",
    "print(f\"Train ratio: {round(100*len(train)/len(df))}%\\nValidation ratio: {round(100*len(val)/len(df))}%\\nTest ratio: {round(100*len(test)/len(df))}%\")"
   ]
  },
  {
   "cell_type": "markdown",
   "metadata": {},
   "source": [
    "# First Approach\n",
    "(With local sort)"
   ]
  },
  {
   "cell_type": "code",
   "execution_count": 9,
   "metadata": {},
   "outputs": [],
   "source": [
    "def KNNMapper2(df, point, K, results, i):\n",
    "    # df: A part of the dataset\n",
    "    # point: the point to find the K nearest neighbors for\n",
    "    # K: the number of nearest neighbors\n",
    "\n",
    "    # calculate the distance between the point and all the points in the dataset based on the selected features\n",
    "    df['distance'] = np.sqrt(np.sum((df[selected_features] - point[selected_features])**2, axis=1))\n",
    "    # results[i] = df[['value_eur', 'distance']]\n",
    "    \n",
    "    # Then sort them locally\n",
    "    results[i] = df[['value_eur', 'distance']].sort_values('distance').head(K)\n",
    "\n",
    "def Map2(df, n, point, K):\n",
    "    # df: the whole dataset\n",
    "    # n: the number of threads\n",
    "    # point: the point to find the K nearest neighbors for\n",
    "    # K: the number of nearest neighbors\n",
    "\n",
    "    # split the dataset into n parts\n",
    "    df_split = np.array_split(df, n)\n",
    "\n",
    "    # create a list to store the results\n",
    "    results = [None] * n\n",
    "\n",
    "    # create n threads\n",
    "    threads = []\n",
    "    for i in range(n):\n",
    "        threads.append(threading.Thread(target=KNNMapper2, args=(df_split[i], point, K, results, i)))\n",
    "\n",
    "    # start the threads\n",
    "    for thread in threads:\n",
    "        thread.start()\n",
    "\n",
    "    # wait for all threads to finish\n",
    "    for thread in threads:\n",
    "        thread.join()\n",
    "\n",
    "    return pd.concat(results)\n",
    "\n"
   ]
  },
  {
   "cell_type": "code",
   "execution_count": 10,
   "metadata": {},
   "outputs": [],
   "source": [
    "def Reduce2(value_eur_distances, K):\n",
    "    # value_eur_distances: The result of the mapper (has been sorted locally)\n",
    "    # K: the number of nearest neighbors\n",
    "    \n",
    "    # Sort globally and return mean\n",
    "    return np.mean(value_eur_distances.sort_values('distance').head(K)['value_eur'])\n"
   ]
  },
  {
   "cell_type": "code",
   "execution_count": 11,
   "metadata": {},
   "outputs": [
    {
     "name": "stdout",
     "output_type": "stream",
     "text": [
      "Predicted value: 0.0017989783452491334, Actual value: 0.0016701117016067\n"
     ]
    }
   ],
   "source": [
    "k = 3\n",
    "cores = 8\n",
    "point = val.iloc[0]\n",
    "# Apply mapper on train, this would calculate the distances\n",
    "value_eur_distances = Map2(train, cores, point, k)\n",
    "\n",
    "# The reducer gets the global K nearest neighbors, and averages their value_eur values\n",
    "# KNNReducer(df, K, results, i):\n",
    "predicted_value = Reduce2(value_eur_distances, k)\n",
    "print(f\"Predicted value: {predicted_value}, Actual value: {point['value_eur']}\")"
   ]
  },
  {
   "cell_type": "code",
   "execution_count": 12,
   "metadata": {},
   "outputs": [],
   "source": [
    "def Evaluate2(train, test, K):\n",
    "    mae = 0; mse = 0; denum = 0\n",
    "    y_mean = train['value_eur'].mean()\n",
    "    # counter = 0\n",
    "    for point in test.iterrows():\n",
    "        point = point[1]\n",
    "        value_eur_distances = Map2(train, cores, point, K)\n",
    "        predicted_value = Reduce2(value_eur_distances, K)\n",
    "\n",
    "        mae += abs(predicted_value - point['value_eur'])\n",
    "        mse += (predicted_value - point['value_eur'])**2\n",
    "        denum += (predicted_value - y_mean)**2\n",
    "        counter += 1\n",
    "        # if counter % 1500 == 0:\n",
    "        #     print(f\"Counter: {counter}\")\n",
    "        #     # print(f\"MAE: {mae / counter}, MSE: {mse / counter}, R2: {1 - (mse/counter)/denum}\")\n",
    "        #     if counter == 100:\n",
    "        #         break\n",
    "    \n",
    "    mae /= len(test)\n",
    "    mse /= len(test)\n",
    "    # mae /= counter\n",
    "    # mse /= counter\n",
    "    r2 = 1 - mse/denum\n",
    "    return mae, mse, r2\n",
    "        "
   ]
  },
  {
   "cell_type": "code",
   "execution_count": 13,
   "metadata": {},
   "outputs": [
    {
     "name": "stdout",
     "output_type": "stream",
     "text": [
      "K: 2, MAE: 0.00460827117665555, MSE: 0.00012166724231502697, R2: 0.9982875854054222\n",
      "K: 3, MAE: 0.0035195198600680095, MSE: 4.694512252437196e-05, R2: 0.999125222369957\n",
      "K: 4, MAE: 0.003547634266156014, MSE: 4.2981578606507576e-05, R2: 0.9991095285359485\n",
      "K: 5, MAE: 0.0034780076185959748, MSE: 4.4793085069407366e-05, R2: 0.9991534352829381\n",
      "K: 6, MAE: 0.0032852832574738378, MSE: 3.791053799186797e-05, R2: 0.9992758586489581\n",
      "K: 7, MAE: 0.0035468150424928556, MSE: 4.886415701258609e-05, R2: 0.9991510030646625\n",
      "K: 8, MAE: 0.003474663529193452, MSE: 4.676672063408949e-05, R2: 0.9991259392678719\n"
     ]
    },
    {
     "ename": "KeyboardInterrupt",
     "evalue": "",
     "output_type": "error",
     "traceback": [
      "\u001b[1;31m---------------------------------------------------------------------------\u001b[0m",
      "\u001b[1;31mKeyboardInterrupt\u001b[0m                         Traceback (most recent call last)",
      "Cell \u001b[1;32mIn[13], line 7\u001b[0m\n\u001b[0;32m      5\u001b[0m max_mae_idx \u001b[38;5;241m=\u001b[39m \u001b[38;5;241m0\u001b[39m; max_mse_idx \u001b[38;5;241m=\u001b[39m \u001b[38;5;241m0\u001b[39m; max_r2_idx \u001b[38;5;241m=\u001b[39m \u001b[38;5;241m0\u001b[39m\n\u001b[0;32m      6\u001b[0m \u001b[38;5;28;01mfor\u001b[39;00m k \u001b[38;5;129;01min\u001b[39;00m K:\n\u001b[1;32m----> 7\u001b[0m     mae, mse, r2 \u001b[38;5;241m=\u001b[39m \u001b[43mEvaluate2\u001b[49m\u001b[43m(\u001b[49m\u001b[43mtrain\u001b[49m\u001b[43m,\u001b[49m\u001b[43m \u001b[49m\u001b[43mval\u001b[49m\u001b[43m,\u001b[49m\u001b[43m \u001b[49m\u001b[43mk\u001b[49m\u001b[43m)\u001b[49m\n\u001b[0;32m      8\u001b[0m     \u001b[38;5;28mprint\u001b[39m(\u001b[38;5;124mf\u001b[39m\u001b[38;5;124m\"\u001b[39m\u001b[38;5;124mK: \u001b[39m\u001b[38;5;132;01m{\u001b[39;00mk\u001b[38;5;132;01m}\u001b[39;00m\u001b[38;5;124m, MAE: \u001b[39m\u001b[38;5;132;01m{\u001b[39;00mmae\u001b[38;5;132;01m}\u001b[39;00m\u001b[38;5;124m, MSE: \u001b[39m\u001b[38;5;132;01m{\u001b[39;00mmse\u001b[38;5;132;01m}\u001b[39;00m\u001b[38;5;124m, R2: \u001b[39m\u001b[38;5;132;01m{\u001b[39;00mr2\u001b[38;5;132;01m}\u001b[39;00m\u001b[38;5;124m\"\u001b[39m)\n\u001b[0;32m      9\u001b[0m     \u001b[38;5;28;01mif\u001b[39;00m r2 \u001b[38;5;241m>\u001b[39m max_r2:\n",
      "Cell \u001b[1;32mIn[12], line 7\u001b[0m, in \u001b[0;36mEvaluate2\u001b[1;34m(train, test, K)\u001b[0m\n\u001b[0;32m      5\u001b[0m \u001b[38;5;28;01mfor\u001b[39;00m point \u001b[38;5;129;01min\u001b[39;00m test\u001b[38;5;241m.\u001b[39miterrows():\n\u001b[0;32m      6\u001b[0m     point \u001b[38;5;241m=\u001b[39m point[\u001b[38;5;241m1\u001b[39m]\n\u001b[1;32m----> 7\u001b[0m     value_eur_distances \u001b[38;5;241m=\u001b[39m \u001b[43mMap2\u001b[49m\u001b[43m(\u001b[49m\u001b[43mtrain\u001b[49m\u001b[43m,\u001b[49m\u001b[43m \u001b[49m\u001b[43mcores\u001b[49m\u001b[43m,\u001b[49m\u001b[43m \u001b[49m\u001b[43mpoint\u001b[49m\u001b[43m,\u001b[49m\u001b[43m \u001b[49m\u001b[43mK\u001b[49m\u001b[43m)\u001b[49m\n\u001b[0;32m      8\u001b[0m     predicted_value \u001b[38;5;241m=\u001b[39m Reduce2(value_eur_distances, K)\n\u001b[0;32m     10\u001b[0m     mae \u001b[38;5;241m+\u001b[39m\u001b[38;5;241m=\u001b[39m \u001b[38;5;28mabs\u001b[39m(predicted_value \u001b[38;5;241m-\u001b[39m point[\u001b[38;5;124m'\u001b[39m\u001b[38;5;124mvalue_eur\u001b[39m\u001b[38;5;124m'\u001b[39m])\n",
      "Cell \u001b[1;32mIn[9], line 32\u001b[0m, in \u001b[0;36mMap2\u001b[1;34m(df, n, point, K)\u001b[0m\n\u001b[0;32m     30\u001b[0m \u001b[38;5;66;03m# start the threads\u001b[39;00m\n\u001b[0;32m     31\u001b[0m \u001b[38;5;28;01mfor\u001b[39;00m thread \u001b[38;5;129;01min\u001b[39;00m threads:\n\u001b[1;32m---> 32\u001b[0m     \u001b[43mthread\u001b[49m\u001b[38;5;241;43m.\u001b[39;49m\u001b[43mstart\u001b[49m\u001b[43m(\u001b[49m\u001b[43m)\u001b[49m\n\u001b[0;32m     34\u001b[0m \u001b[38;5;66;03m# wait for all threads to finish\u001b[39;00m\n\u001b[0;32m     35\u001b[0m \u001b[38;5;28;01mfor\u001b[39;00m thread \u001b[38;5;129;01min\u001b[39;00m threads:\n",
      "File \u001b[1;32mc:\\Users\\DELL\\AppData\\Local\\Programs\\Python\\Python310\\lib\\threading.py:940\u001b[0m, in \u001b[0;36mThread.start\u001b[1;34m(self)\u001b[0m\n\u001b[0;32m    938\u001b[0m         \u001b[38;5;28;01mdel\u001b[39;00m _limbo[\u001b[38;5;28mself\u001b[39m]\n\u001b[0;32m    939\u001b[0m     \u001b[38;5;28;01mraise\u001b[39;00m\n\u001b[1;32m--> 940\u001b[0m \u001b[38;5;28;43mself\u001b[39;49m\u001b[38;5;241;43m.\u001b[39;49m\u001b[43m_started\u001b[49m\u001b[38;5;241;43m.\u001b[39;49m\u001b[43mwait\u001b[49m\u001b[43m(\u001b[49m\u001b[43m)\u001b[49m\n",
      "File \u001b[1;32mc:\\Users\\DELL\\AppData\\Local\\Programs\\Python\\Python310\\lib\\threading.py:607\u001b[0m, in \u001b[0;36mEvent.wait\u001b[1;34m(self, timeout)\u001b[0m\n\u001b[0;32m    605\u001b[0m signaled \u001b[38;5;241m=\u001b[39m \u001b[38;5;28mself\u001b[39m\u001b[38;5;241m.\u001b[39m_flag\n\u001b[0;32m    606\u001b[0m \u001b[38;5;28;01mif\u001b[39;00m \u001b[38;5;129;01mnot\u001b[39;00m signaled:\n\u001b[1;32m--> 607\u001b[0m     signaled \u001b[38;5;241m=\u001b[39m \u001b[38;5;28;43mself\u001b[39;49m\u001b[38;5;241;43m.\u001b[39;49m\u001b[43m_cond\u001b[49m\u001b[38;5;241;43m.\u001b[39;49m\u001b[43mwait\u001b[49m\u001b[43m(\u001b[49m\u001b[43mtimeout\u001b[49m\u001b[43m)\u001b[49m\n\u001b[0;32m    608\u001b[0m \u001b[38;5;28;01mreturn\u001b[39;00m signaled\n",
      "File \u001b[1;32mc:\\Users\\DELL\\AppData\\Local\\Programs\\Python\\Python310\\lib\\threading.py:320\u001b[0m, in \u001b[0;36mCondition.wait\u001b[1;34m(self, timeout)\u001b[0m\n\u001b[0;32m    318\u001b[0m \u001b[38;5;28;01mtry\u001b[39;00m:    \u001b[38;5;66;03m# restore state no matter what (e.g., KeyboardInterrupt)\u001b[39;00m\n\u001b[0;32m    319\u001b[0m     \u001b[38;5;28;01mif\u001b[39;00m timeout \u001b[38;5;129;01mis\u001b[39;00m \u001b[38;5;28;01mNone\u001b[39;00m:\n\u001b[1;32m--> 320\u001b[0m         \u001b[43mwaiter\u001b[49m\u001b[38;5;241;43m.\u001b[39;49m\u001b[43macquire\u001b[49m\u001b[43m(\u001b[49m\u001b[43m)\u001b[49m\n\u001b[0;32m    321\u001b[0m         gotit \u001b[38;5;241m=\u001b[39m \u001b[38;5;28;01mTrue\u001b[39;00m\n\u001b[0;32m    322\u001b[0m     \u001b[38;5;28;01melse\u001b[39;00m:\n",
      "\u001b[1;31mKeyboardInterrupt\u001b[0m: "
     ]
    }
   ],
   "source": [
    "# Using validation to find best K\n",
    "K = list(range(2, 11))\n",
    "\n",
    "max_mae = 0; max_mse = 0; max_r2 = -99999\n",
    "max_mae_idx = 0; max_mse_idx = 0; max_r2_idx = 0\n",
    "for k in K:\n",
    "    mae, mse, r2 = Evaluate2(train, val, k)\n",
    "    print(f\"K: {k}, MAE: {mae}, MSE: {mse}, R2: {r2}\")\n",
    "    if r2 > max_r2:\n",
    "        max_r2 = r2\n",
    "        max_r2_idx = k\n",
    "    if mae > max_mae:\n",
    "        max_mae = mae\n",
    "        max_mae_idx = k\n",
    "    if mse > max_mse:\n",
    "        max_mse = mse\n",
    "        max_mse_idx = k\n",
    "\n",
    "print(f\"Best K for MAE: {max_mae_idx}, MAE: {max_mae}\")\n",
    "print(f\"Best K for MSE: {max_mse_idx}, MSE: {max_mse}\")\n",
    "print(f\"Best K for R2: {max_r2_idx}, R2: {max_r2}\")"
   ]
  },
  {
   "cell_type": "code",
   "execution_count": null,
   "metadata": {},
   "outputs": [],
   "source": []
  },
  {
   "cell_type": "code",
   "execution_count": null,
   "metadata": {},
   "outputs": [],
   "source": []
  },
  {
   "cell_type": "markdown",
   "metadata": {},
   "source": [
    "# Another approach\n",
    "(Without local sort)"
   ]
  },
  {
   "cell_type": "code",
   "execution_count": null,
   "metadata": {},
   "outputs": [],
   "source": [
    "def KNNMapper(df, point, K, results, i):\n",
    "    # df: A part of the dataset\n",
    "    # point: the point to find the K nearest neighbors for\n",
    "    # K: the number of nearest neighbors\n",
    "\n",
    "    # calculate the distance between the point and all the points in the dataset based on the selected features\n",
    "    df['distance'] = np.sqrt(np.sum((df[selected_features] - point[selected_features])**2, axis=1))\n",
    "    results[i] = df[['value_eur', 'distance']]\n",
    "    \n",
    "    # Then sort them locally\n",
    "    # results[i] = df[['value_eur', 'distance']].sort_values('distance').head(K)\n",
    "\n",
    "def Map(df, n, point, K):\n",
    "    # df: the whole dataset\n",
    "    # n: the number of threads\n",
    "    # point: the point to find the K nearest neighbors for\n",
    "    # K: the number of nearest neighbors\n",
    "\n",
    "    # split the dataset into n parts\n",
    "    df_split = np.array_split(df, n)\n",
    "\n",
    "    # create a list to store the results\n",
    "    results = [None] * n\n",
    "\n",
    "    # create n threads\n",
    "    threads = []\n",
    "    for i in range(n):\n",
    "        threads.append(threading.Thread(target=KNNMapper, args=(df_split[i], point, K, results, i)))\n",
    "\n",
    "    # start the threads\n",
    "    for thread in threads:\n",
    "        thread.start()\n",
    "\n",
    "    # wait for all threads to finish\n",
    "    for thread in threads:\n",
    "        thread.join()\n",
    "\n",
    "    return pd.concat(results)\n",
    "\n"
   ]
  },
  {
   "cell_type": "code",
   "execution_count": null,
   "metadata": {},
   "outputs": [],
   "source": [
    "def KNNReducer(df, K, results, i):\n",
    "    # df: A part of the dataset\n",
    "    # K: the number of nearest neighbors\n",
    "\n",
    "    # sort the dataset based on the distance (local sort)\n",
    "    df = df.sort_values('distance').head(K)\n",
    "    results[i] = df\n",
    "\n",
    "def Reduce(df, n, K):\n",
    "    # df: the whole dataset\n",
    "    # n: the number of threads\n",
    "    # K: the number of nearest neighbors\n",
    "\n",
    "    # split the dataset into n parts\n",
    "    df_split = np.array_split(df, n)\n",
    "\n",
    "    # create a list to store the results\n",
    "    results = [None] * n\n",
    "\n",
    "    # create n threads\n",
    "    threads = []\n",
    "    for i in range(n):\n",
    "        threads.append(threading.Thread(target=KNNReducer, args=(df_split[i], K, results, i)))\n",
    "    \n",
    "    # start the threads\n",
    "    for thread in threads:\n",
    "        thread.start()\n",
    "\n",
    "    # wait for all threads to finish\n",
    "    for thread in threads:\n",
    "        thread.join()\n",
    "\n",
    "    # Join and sort the results (global sort)\n",
    "    return np.mean(pd.concat(results).sort_values('distance').head(K)['value_eur'])\n"
   ]
  },
  {
   "cell_type": "code",
   "execution_count": null,
   "metadata": {},
   "outputs": [],
   "source": [
    "k = 3\n",
    "cores = 8\n",
    "point = val.iloc[0]\n",
    "# Apply mapper on train, this would calculate the distances\n",
    "value_eur_distances = Map(train, cores, point, k)\n",
    "# print(value_eur_distances)\n",
    "\n",
    "# The reducer gets the global K nearest neighbors, and averages their value_eur values\n",
    "# KNNReducer(df, K, results, i):\n",
    "predicted_value = Reduce(value_eur_distances, cores, k)\n",
    "print(f\"Predicted value: {predicted_value}, Actual value: {point['value_eur']}\")"
   ]
  },
  {
   "cell_type": "code",
   "execution_count": null,
   "metadata": {},
   "outputs": [],
   "source": [
    "def Evaluate(train, test, K):\n",
    "    mae = 0; mse = 0; denum = 0\n",
    "    y_mean = train['value_eur'].mean()\n",
    "    # counter = 0\n",
    "    for point in test.iterrows():\n",
    "        point = point[1]\n",
    "        value_eur_distances = Map(train, cores, point, K)\n",
    "        predicted_value = Reduce(value_eur_distances, cores, K)\n",
    "\n",
    "        mae += abs(predicted_value - point['value_eur'])\n",
    "        mse += (predicted_value - point['value_eur'])**2\n",
    "        denum += (predicted_value - y_mean)**2\n",
    "        # counter += 1\n",
    "        # if counter % 1000 == 0:\n",
    "        #     print(f\"Counter: {counter}\")\n",
    "        #     break\n",
    "    \n",
    "    mae /= len(test)\n",
    "    mse /= len(test)\n",
    "    # mae /= counter\n",
    "    # mse /= counter\n",
    "    r2 = 1 - mse/denum\n",
    "    return mae, mse, r2\n",
    "        "
   ]
  },
  {
   "cell_type": "code",
   "execution_count": null,
   "metadata": {},
   "outputs": [],
   "source": [
    "# Using validation to find best K\n",
    "K = list(range(2, 11))\n",
    "\n",
    "max_mae = 0; max_mse = 0; max_r2 = -99999\n",
    "max_mae_idx = 0; max_mse_idx = 0; max_r2_idx = 0\n",
    "for k in K:\n",
    "    mae, mse, r2 = Evaluate(train, val, k)\n",
    "    print(f\"K: {k}, MAE: {mae}, MSE: {mse}, R2: {r2}\")\n",
    "    if r2 > max_r2:\n",
    "        max_r2 = r2\n",
    "        max_r2_idx = k\n",
    "    if mae > max_mae:\n",
    "        max_mae = mae\n",
    "        max_mae_idx = k\n",
    "    if mse > max_mse:\n",
    "        max_mse = mse\n",
    "        max_mse_idx = k\n",
    "\n",
    "print(f\"Best K for MAE: {max_mae_idx}, MAE: {max_mae}\")\n",
    "print(f\"Best K for MSE: {max_mse_idx}, MSE: {max_mse}\")\n",
    "print(f\"Best K for R2: {max_r2_idx}, R2: {max_r2}\")"
   ]
  },
  {
   "cell_type": "code",
   "execution_count": null,
   "metadata": {},
   "outputs": [],
   "source": []
  }
 ],
 "metadata": {
  "kernelspec": {
   "display_name": "Python 3",
   "language": "python",
   "name": "python3"
  },
  "language_info": {
   "codemirror_mode": {
    "name": "ipython",
    "version": 3
   },
   "file_extension": ".py",
   "mimetype": "text/x-python",
   "name": "python",
   "nbconvert_exporter": "python",
   "pygments_lexer": "ipython3",
   "version": "3.10.7"
  }
 },
 "nbformat": 4,
 "nbformat_minor": 2
}
