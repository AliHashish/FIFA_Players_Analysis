{
 "cells": [
  {
   "cell_type": "code",
   "execution_count": 21,
   "metadata": {},
   "outputs": [],
   "source": [
    "# !pip install pyspark"
   ]
  },
  {
   "cell_type": "code",
   "execution_count": 22,
   "metadata": {},
   "outputs": [],
   "source": [
    "# import os\n",
    "# from pyspark.sql import SparkSession"
   ]
  },
  {
   "cell_type": "code",
   "execution_count": 23,
   "metadata": {},
   "outputs": [],
   "source": [
    "# spark_home = \"D:\\Ali_Kolya\\FIFA_Players_Analysis\""
   ]
  },
  {
   "cell_type": "code",
   "execution_count": 24,
   "metadata": {},
   "outputs": [],
   "source": [
    "# os.environ[\"SPARK_HOME\"] = spark_home\n",
    "\n",
    "# # Add Spark bin and executors to PATH\n",
    "# os.environ[\"PATH\"] += os.pathsep + os.path.join(spark_home, \"bin\")\n",
    "# os.environ[\"PATH\"] += os.pathsep + os.path.join(spark_home, \"sbin\")\n",
    "\n",
    "# # Add Spark Python libraries to PYTHONPATH\n",
    "# os.environ[\"PYTHONPATH\"] = os.path.join(spark_home, \"python\") + os.pathsep + os.environ.get(\"PYTHONPATH\", \"\")\n",
    "# os.environ[\"PYTHONPATH\"] += os.pathsep + os.path.join(spark_home, \"python\", \"lib\")\n",
    "\n",
    "# # Add PySpark to the system path\n",
    "# os.environ[\"PATH\"] += os.pathsep + os.path.join(spark_home, \"python\", \"lib\", \"pyspark.zip\")\n",
    "# os.environ[\"PATH\"] += os.pathsep + os.path.join(spark_home, \"python\", \"lib\", \"py4j-0.10.9-src.zip\")\n",
    "\n",
    "# os.environ['PYSPARK_DRIVER_PYTHON'] = 'jupyter'\n",
    "# os.environ['PYSPARK_DRIVER_PYTHON_OPTS'] = 'lab'\n",
    "# os.environ['PYSPARK_PYTHON'] = 'python'"
   ]
  },
  {
   "cell_type": "code",
   "execution_count": 25,
   "metadata": {},
   "outputs": [],
   "source": [
    "# # Create a SparkSession\n",
    "# spark = SparkSession.builder \\\n",
    "#     .appName(\"PySpark-Script\") \\\n",
    "#     .getOrCreate()"
   ]
  },
  {
   "cell_type": "code",
   "execution_count": 26,
   "metadata": {},
   "outputs": [],
   "source": [
    "# data = [(\"Alice\", 25), (\"Bob\", 30), (\"Charlie\", 35)]\n",
    "# rdd = spark.sparkContext.parallelize(data)\n",
    "# rdd_length = len(rdd.collect())\n",
    "# print(\"Total number of elements: \", rdd_length)"
   ]
  },
  {
   "cell_type": "markdown",
   "metadata": {},
   "source": [
    "# Data Cleaning"
   ]
  },
  {
   "cell_type": "markdown",
   "metadata": {},
   "source": [
    "# Preprocessing"
   ]
  },
  {
   "cell_type": "markdown",
   "metadata": {},
   "source": [
    "# Feature Extraction"
   ]
  },
  {
   "cell_type": "markdown",
   "metadata": {},
   "source": [
    "# EDA"
   ]
  },
  {
   "cell_type": "code",
   "execution_count": null,
   "metadata": {},
   "outputs": [],
   "source": []
  },
  {
   "cell_type": "markdown",
   "metadata": {},
   "source": [
    "# Model Development"
   ]
  },
  {
   "cell_type": "markdown",
   "metadata": {},
   "source": []
  },
  {
   "cell_type": "markdown",
   "metadata": {},
   "source": [
    "# Reading the Data"
   ]
  },
  {
   "cell_type": "code",
   "execution_count": 27,
   "metadata": {},
   "outputs": [
    {
     "name": "stdout",
     "output_type": "stream",
     "text": [
      "161583\n"
     ]
    },
    {
     "name": "stderr",
     "output_type": "stream",
     "text": [
      "C:\\Users\\DELL\\AppData\\Local\\Temp\\ipykernel_12524\\2782358923.py:7: DtypeWarning: Columns (108) have mixed types. Specify dtype option on import or set low_memory=False.\n",
      "  df = pd.read_csv('Data/male_players (legacy)_23.csv')\n"
     ]
    }
   ],
   "source": [
    "import pandas as pd\n",
    "import numpy as np\n",
    "import matplotlib.pyplot as plt\n",
    "import seaborn as sns\n",
    "\n",
    "# df = pd.read_csv('Data/male_players_23.csv')\n",
    "df = pd.read_csv('Data/male_players (legacy)_23.csv')\n",
    "print(len(df))\n"
   ]
  },
  {
   "cell_type": "code",
   "execution_count": 28,
   "metadata": {},
   "outputs": [
    {
     "data": {
      "text/html": [
       "<div>\n",
       "<style scoped>\n",
       "    .dataframe tbody tr th:only-of-type {\n",
       "        vertical-align: middle;\n",
       "    }\n",
       "\n",
       "    .dataframe tbody tr th {\n",
       "        vertical-align: top;\n",
       "    }\n",
       "\n",
       "    .dataframe thead th {\n",
       "        text-align: right;\n",
       "    }\n",
       "</style>\n",
       "<table border=\"1\" class=\"dataframe\">\n",
       "  <thead>\n",
       "    <tr style=\"text-align: right;\">\n",
       "      <th></th>\n",
       "      <th>player_id</th>\n",
       "      <th>player_url</th>\n",
       "      <th>fifa_version</th>\n",
       "      <th>fifa_update</th>\n",
       "      <th>fifa_update_date</th>\n",
       "      <th>short_name</th>\n",
       "      <th>long_name</th>\n",
       "      <th>player_positions</th>\n",
       "      <th>overall</th>\n",
       "      <th>potential</th>\n",
       "      <th>...</th>\n",
       "      <th>cdm</th>\n",
       "      <th>rdm</th>\n",
       "      <th>rwb</th>\n",
       "      <th>lb</th>\n",
       "      <th>lcb</th>\n",
       "      <th>cb</th>\n",
       "      <th>rcb</th>\n",
       "      <th>rb</th>\n",
       "      <th>gk</th>\n",
       "      <th>player_face_url</th>\n",
       "    </tr>\n",
       "  </thead>\n",
       "  <tbody>\n",
       "    <tr>\n",
       "      <th>0</th>\n",
       "      <td>158023</td>\n",
       "      <td>/player/158023/lionel-messi/150002</td>\n",
       "      <td>15</td>\n",
       "      <td>2</td>\n",
       "      <td>2014-09-18</td>\n",
       "      <td>L. Messi</td>\n",
       "      <td>Lionel Andrés Messi Cuccittini</td>\n",
       "      <td>CF</td>\n",
       "      <td>93</td>\n",
       "      <td>95</td>\n",
       "      <td>...</td>\n",
       "      <td>62+3</td>\n",
       "      <td>62+3</td>\n",
       "      <td>62+3</td>\n",
       "      <td>54+3</td>\n",
       "      <td>45+3</td>\n",
       "      <td>45+3</td>\n",
       "      <td>45+3</td>\n",
       "      <td>54+3</td>\n",
       "      <td>15+3</td>\n",
       "      <td>https://cdn.sofifa.net/players/158/023/15_120.png</td>\n",
       "    </tr>\n",
       "    <tr>\n",
       "      <th>1</th>\n",
       "      <td>20801</td>\n",
       "      <td>/player/20801/c-ronaldo-dos-santos-aveiro/150002</td>\n",
       "      <td>15</td>\n",
       "      <td>2</td>\n",
       "      <td>2014-09-18</td>\n",
       "      <td>Cristiano Ronaldo</td>\n",
       "      <td>Cristiano Ronaldo dos Santos Aveiro</td>\n",
       "      <td>LW, LM</td>\n",
       "      <td>92</td>\n",
       "      <td>92</td>\n",
       "      <td>...</td>\n",
       "      <td>63+3</td>\n",
       "      <td>63+3</td>\n",
       "      <td>63+3</td>\n",
       "      <td>57+3</td>\n",
       "      <td>52+3</td>\n",
       "      <td>52+3</td>\n",
       "      <td>52+3</td>\n",
       "      <td>57+3</td>\n",
       "      <td>16+3</td>\n",
       "      <td>https://cdn.sofifa.net/players/020/801/15_120.png</td>\n",
       "    </tr>\n",
       "    <tr>\n",
       "      <th>2</th>\n",
       "      <td>9014</td>\n",
       "      <td>/player/9014/arjen-robben/150002</td>\n",
       "      <td>15</td>\n",
       "      <td>2</td>\n",
       "      <td>2014-09-18</td>\n",
       "      <td>A. Robben</td>\n",
       "      <td>Arjen Robben</td>\n",
       "      <td>RM, LM, RW</td>\n",
       "      <td>90</td>\n",
       "      <td>90</td>\n",
       "      <td>...</td>\n",
       "      <td>64+3</td>\n",
       "      <td>64+3</td>\n",
       "      <td>64+3</td>\n",
       "      <td>55+3</td>\n",
       "      <td>46+3</td>\n",
       "      <td>46+3</td>\n",
       "      <td>46+3</td>\n",
       "      <td>55+3</td>\n",
       "      <td>14+3</td>\n",
       "      <td>https://cdn.sofifa.net/players/009/014/15_120.png</td>\n",
       "    </tr>\n",
       "    <tr>\n",
       "      <th>3</th>\n",
       "      <td>41236</td>\n",
       "      <td>/player/41236/zlatan-ibrahimovic/150002</td>\n",
       "      <td>15</td>\n",
       "      <td>2</td>\n",
       "      <td>2014-09-18</td>\n",
       "      <td>Z. Ibrahimović</td>\n",
       "      <td>Zlatan Ibrahimović</td>\n",
       "      <td>ST</td>\n",
       "      <td>90</td>\n",
       "      <td>90</td>\n",
       "      <td>...</td>\n",
       "      <td>65+3</td>\n",
       "      <td>65+3</td>\n",
       "      <td>61+3</td>\n",
       "      <td>56+3</td>\n",
       "      <td>55+3</td>\n",
       "      <td>55+3</td>\n",
       "      <td>55+3</td>\n",
       "      <td>56+3</td>\n",
       "      <td>17+3</td>\n",
       "      <td>https://cdn.sofifa.net/players/041/236/15_120.png</td>\n",
       "    </tr>\n",
       "    <tr>\n",
       "      <th>4</th>\n",
       "      <td>167495</td>\n",
       "      <td>/player/167495/manuel-neuer/150002</td>\n",
       "      <td>15</td>\n",
       "      <td>2</td>\n",
       "      <td>2014-09-18</td>\n",
       "      <td>M. Neuer</td>\n",
       "      <td>Manuel Peter Neuer</td>\n",
       "      <td>GK</td>\n",
       "      <td>90</td>\n",
       "      <td>90</td>\n",
       "      <td>...</td>\n",
       "      <td>40+3</td>\n",
       "      <td>40+3</td>\n",
       "      <td>36+3</td>\n",
       "      <td>36+3</td>\n",
       "      <td>38+3</td>\n",
       "      <td>38+3</td>\n",
       "      <td>38+3</td>\n",
       "      <td>36+3</td>\n",
       "      <td>87+3</td>\n",
       "      <td>https://cdn.sofifa.net/players/167/495/15_120.png</td>\n",
       "    </tr>\n",
       "  </tbody>\n",
       "</table>\n",
       "<p>5 rows × 110 columns</p>\n",
       "</div>"
      ],
      "text/plain": [
       "   player_id                                        player_url  fifa_version   \n",
       "0     158023                /player/158023/lionel-messi/150002            15  \\\n",
       "1      20801  /player/20801/c-ronaldo-dos-santos-aveiro/150002            15   \n",
       "2       9014                  /player/9014/arjen-robben/150002            15   \n",
       "3      41236           /player/41236/zlatan-ibrahimovic/150002            15   \n",
       "4     167495                /player/167495/manuel-neuer/150002            15   \n",
       "\n",
       "   fifa_update fifa_update_date         short_name   \n",
       "0            2       2014-09-18           L. Messi  \\\n",
       "1            2       2014-09-18  Cristiano Ronaldo   \n",
       "2            2       2014-09-18          A. Robben   \n",
       "3            2       2014-09-18     Z. Ibrahimović   \n",
       "4            2       2014-09-18           M. Neuer   \n",
       "\n",
       "                             long_name player_positions  overall  potential   \n",
       "0       Lionel Andrés Messi Cuccittini               CF       93         95  \\\n",
       "1  Cristiano Ronaldo dos Santos Aveiro           LW, LM       92         92   \n",
       "2                         Arjen Robben       RM, LM, RW       90         90   \n",
       "3                   Zlatan Ibrahimović               ST       90         90   \n",
       "4                   Manuel Peter Neuer               GK       90         90   \n",
       "\n",
       "   ...   cdm   rdm   rwb    lb   lcb    cb   rcb    rb    gk   \n",
       "0  ...  62+3  62+3  62+3  54+3  45+3  45+3  45+3  54+3  15+3  \\\n",
       "1  ...  63+3  63+3  63+3  57+3  52+3  52+3  52+3  57+3  16+3   \n",
       "2  ...  64+3  64+3  64+3  55+3  46+3  46+3  46+3  55+3  14+3   \n",
       "3  ...  65+3  65+3  61+3  56+3  55+3  55+3  55+3  56+3  17+3   \n",
       "4  ...  40+3  40+3  36+3  36+3  38+3  38+3  38+3  36+3  87+3   \n",
       "\n",
       "                                     player_face_url  \n",
       "0  https://cdn.sofifa.net/players/158/023/15_120.png  \n",
       "1  https://cdn.sofifa.net/players/020/801/15_120.png  \n",
       "2  https://cdn.sofifa.net/players/009/014/15_120.png  \n",
       "3  https://cdn.sofifa.net/players/041/236/15_120.png  \n",
       "4  https://cdn.sofifa.net/players/167/495/15_120.png  \n",
       "\n",
       "[5 rows x 110 columns]"
      ]
     },
     "execution_count": 28,
     "metadata": {},
     "output_type": "execute_result"
    }
   ],
   "source": [
    "df.head()"
   ]
  },
  {
   "cell_type": "code",
   "execution_count": 29,
   "metadata": {},
   "outputs": [
    {
     "name": "stdout",
     "output_type": "stream",
     "text": [
      "<class 'pandas.core.frame.DataFrame'>\n",
      "RangeIndex: 161583 entries, 0 to 161582\n",
      "Columns: 110 entries, player_id to player_face_url\n",
      "dtypes: float64(18), int64(45), object(47)\n",
      "memory usage: 135.6+ MB\n"
     ]
    }
   ],
   "source": [
    "df.info()"
   ]
  },
  {
   "cell_type": "code",
   "execution_count": 30,
   "metadata": {},
   "outputs": [
    {
     "data": {
      "text/plain": [
       "<AxesSubplot:>"
      ]
     },
     "execution_count": 30,
     "metadata": {},
     "output_type": "execute_result"
    },
    {
     "data": {
      "image/png": "[encoded data removed]",
      "text/plain": [
       "<Figure size 640x480 with 1 Axes>"
      ]
     },
     "metadata": {},
     "output_type": "display_data"
    }
   ],
   "source": [
    "sns.heatmap(df.isnull(), cbar = False)\n",
    "# Data has lots of missing values"
   ]
  },
  {
   "cell_type": "code",
   "execution_count": 31,
   "metadata": {},
   "outputs": [
    {
     "data": {
      "text/plain": [
       "1218702"
      ]
     },
     "execution_count": 31,
     "metadata": {},
     "output_type": "execute_result"
    }
   ],
   "source": [
    "# Total number of nulls\n",
    "df.isnull().sum().sum()"
   ]
  },
  {
   "cell_type": "code",
   "execution_count": 32,
   "metadata": {},
   "outputs": [
    {
     "name": "stdout",
     "output_type": "stream",
     "text": [
      "value_eur                           2053\n",
      "wage_eur                            1761\n",
      "league_id                           1773\n",
      "league_name                         1773\n",
      "league_level                        2717\n",
      "club_team_id                        1773\n",
      "club_name                           1773\n",
      "club_position                       1773\n",
      "club_jersey_number                  1773\n",
      "club_loaned_from                  152045\n",
      "club_joined_date                   11311\n",
      "club_contract_valid_until_year      1773\n",
      "nation_team_id                    152267\n",
      "nation_position                   152267\n",
      "nation_jersey_number              152267\n",
      "release_clause_eur                 57961\n",
      "player_tags                       148920\n",
      "player_traits                      88433\n",
      "pace                               17969\n",
      "shooting                           17969\n",
      "passing                            17969\n",
      "dribbling                          17969\n",
      "defending                          17969\n",
      "physic                             17969\n",
      "mentality_composure                32861\n",
      "goalkeeping_speed                 143614\n",
      "dtype: int64\n"
     ]
    }
   ],
   "source": [
    "# Nulls in each column\n",
    "nulls = df.isnull().sum() \n",
    "print(nulls[nulls > 0])"
   ]
  },
  {
   "cell_type": "code",
   "execution_count": 33,
   "metadata": {},
   "outputs": [
    {
     "name": "stdout",
     "output_type": "stream",
     "text": [
      "value_eur                          1.270554\n",
      "wage_eur                           1.089842\n",
      "league_id                          1.097269\n",
      "league_name                        1.097269\n",
      "league_level                       1.681489\n",
      "club_team_id                       1.097269\n",
      "club_name                          1.097269\n",
      "club_position                      1.097269\n",
      "club_jersey_number                 1.097269\n",
      "club_loaned_from                  94.097151\n",
      "club_joined_date                   7.000118\n",
      "club_contract_valid_until_year     1.097269\n",
      "nation_team_id                    94.234542\n",
      "nation_position                   94.234542\n",
      "nation_jersey_number              94.234542\n",
      "release_clause_eur                35.870729\n",
      "player_tags                       92.163161\n",
      "player_traits                     54.729148\n",
      "pace                              11.120601\n",
      "shooting                          11.120601\n",
      "passing                           11.120601\n",
      "dribbling                         11.120601\n",
      "defending                         11.120601\n",
      "physic                            11.120601\n",
      "mentality_composure               20.336917\n",
      "goalkeeping_speed                 88.879399\n",
      "dtype: float64\n"
     ]
    }
   ],
   "source": [
    "# Showing it as percentages\n",
    "print(nulls[nulls > 0] / len(df) * 100)"
   ]
  },
  {
   "cell_type": "code",
   "execution_count": 34,
   "metadata": {},
   "outputs": [
    {
     "name": "stdout",
     "output_type": "stream",
     "text": [
      "value_eur                          1.270554\n",
      "wage_eur                           1.089842\n",
      "league_id                          1.097269\n",
      "league_name                        1.097269\n",
      "league_level                       1.681489\n",
      "club_team_id                       1.097269\n",
      "club_name                          1.097269\n",
      "club_position                      1.097269\n",
      "club_jersey_number                 1.097269\n",
      "club_joined_date                   7.000118\n",
      "club_contract_valid_until_year     1.097269\n",
      "pace                              11.120601\n",
      "shooting                          11.120601\n",
      "passing                           11.120601\n",
      "dribbling                         11.120601\n",
      "defending                         11.120601\n",
      "physic                            11.120601\n",
      "mentality_composure               20.336917\n",
      "dtype: float64\n"
     ]
    }
   ],
   "source": [
    "# Drop columns with more than 33% missing values\n",
    "df = df.dropna(thresh = len(df) / 3 * 2, axis = 1)\n",
    "nulls = df.isnull().sum() \n",
    "print(nulls[nulls > 0] / len(df) * 100)"
   ]
  },
  {
   "cell_type": "code",
   "execution_count": 35,
   "metadata": {},
   "outputs": [
    {
     "data": {
      "text/plain": [
       "value_eur                         float64\n",
       "wage_eur                          float64\n",
       "league_id                         float64\n",
       "league_name                        object\n",
       "league_level                      float64\n",
       "club_team_id                      float64\n",
       "club_name                          object\n",
       "club_position                      object\n",
       "club_jersey_number                float64\n",
       "club_joined_date                   object\n",
       "club_contract_valid_until_year    float64\n",
       "pace                              float64\n",
       "shooting                          float64\n",
       "passing                           float64\n",
       "dribbling                         float64\n",
       "defending                         float64\n",
       "physic                            float64\n",
       "mentality_composure               float64\n",
       "dtype: object"
      ]
     },
     "execution_count": 35,
     "metadata": {},
     "output_type": "execute_result"
    }
   ],
   "source": [
    "# get the type of columns that have nulls\n",
    "df.dtypes[nulls[nulls > 0].index]"
   ]
  },
  {
   "cell_type": "code",
   "execution_count": 36,
   "metadata": {},
   "outputs": [],
   "source": [
    "# get info about this column\n",
    "# df['release_clause_eur']"
   ]
  },
  {
   "cell_type": "code",
   "execution_count": 37,
   "metadata": {},
   "outputs": [
    {
     "data": {
      "text/plain": [
       "count    128722.000000\n",
       "mean         57.816892\n",
       "std          12.329739\n",
       "min           3.000000\n",
       "25%          50.000000\n",
       "50%          59.000000\n",
       "75%          66.000000\n",
       "max          96.000000\n",
       "Name: mentality_composure, dtype: float64"
      ]
     },
     "execution_count": 37,
     "metadata": {},
     "output_type": "execute_result"
    }
   ],
   "source": [
    "df['mentality_composure'].describe()"
   ]
  },
  {
   "cell_type": "code",
   "execution_count": 38,
   "metadata": {},
   "outputs": [
    {
     "data": {
      "text/plain": [
       "0"
      ]
     },
     "execution_count": 38,
     "metadata": {},
     "output_type": "execute_result"
    }
   ],
   "source": [
    "# Checking for duplicates\n",
    "df.duplicated().sum()\n",
    "# No duplicates found"
   ]
  },
  {
   "cell_type": "code",
   "execution_count": 39,
   "metadata": {},
   "outputs": [
    {
     "data": {
      "text/html": [
       "<div>\n",
       "<style scoped>\n",
       "    .dataframe tbody tr th:only-of-type {\n",
       "        vertical-align: middle;\n",
       "    }\n",
       "\n",
       "    .dataframe tbody tr th {\n",
       "        vertical-align: top;\n",
       "    }\n",
       "\n",
       "    .dataframe thead th {\n",
       "        text-align: right;\n",
       "    }\n",
       "</style>\n",
       "<table border=\"1\" class=\"dataframe\">\n",
       "  <thead>\n",
       "    <tr style=\"text-align: right;\">\n",
       "      <th></th>\n",
       "      <th>player_id</th>\n",
       "      <th>fifa_version</th>\n",
       "      <th>fifa_update</th>\n",
       "      <th>overall</th>\n",
       "      <th>potential</th>\n",
       "      <th>value_eur</th>\n",
       "      <th>wage_eur</th>\n",
       "      <th>age</th>\n",
       "      <th>height_cm</th>\n",
       "      <th>weight_kg</th>\n",
       "      <th>...</th>\n",
       "      <th>mentality_penalties</th>\n",
       "      <th>mentality_composure</th>\n",
       "      <th>defending_marking_awareness</th>\n",
       "      <th>defending_standing_tackle</th>\n",
       "      <th>defending_sliding_tackle</th>\n",
       "      <th>goalkeeping_diving</th>\n",
       "      <th>goalkeeping_handling</th>\n",
       "      <th>goalkeeping_kicking</th>\n",
       "      <th>goalkeeping_positioning</th>\n",
       "      <th>goalkeeping_reflexes</th>\n",
       "    </tr>\n",
       "  </thead>\n",
       "  <tbody>\n",
       "    <tr>\n",
       "      <th>count</th>\n",
       "      <td>161583.000000</td>\n",
       "      <td>161583.000000</td>\n",
       "      <td>161583.0</td>\n",
       "      <td>161583.000000</td>\n",
       "      <td>161583.000000</td>\n",
       "      <td>1.595300e+05</td>\n",
       "      <td>159822.000000</td>\n",
       "      <td>161583.000000</td>\n",
       "      <td>161583.000000</td>\n",
       "      <td>161583.000000</td>\n",
       "      <td>...</td>\n",
       "      <td>161583.000000</td>\n",
       "      <td>128722.000000</td>\n",
       "      <td>161583.000000</td>\n",
       "      <td>161583.000000</td>\n",
       "      <td>161583.000000</td>\n",
       "      <td>161583.00000</td>\n",
       "      <td>161583.000000</td>\n",
       "      <td>161583.000000</td>\n",
       "      <td>161583.000000</td>\n",
       "      <td>161583.000000</td>\n",
       "    </tr>\n",
       "    <tr>\n",
       "      <th>mean</th>\n",
       "      <td>214484.722353</td>\n",
       "      <td>19.125514</td>\n",
       "      <td>2.0</td>\n",
       "      <td>65.699071</td>\n",
       "      <td>70.744008</td>\n",
       "      <td>2.326770e+06</td>\n",
       "      <td>10855.409768</td>\n",
       "      <td>25.123181</td>\n",
       "      <td>181.240205</td>\n",
       "      <td>75.235031</td>\n",
       "      <td>...</td>\n",
       "      <td>48.668492</td>\n",
       "      <td>57.816892</td>\n",
       "      <td>45.757957</td>\n",
       "      <td>47.669996</td>\n",
       "      <td>45.698588</td>\n",
       "      <td>16.52961</td>\n",
       "      <td>16.274918</td>\n",
       "      <td>16.140374</td>\n",
       "      <td>16.288861</td>\n",
       "      <td>16.636973</td>\n",
       "    </tr>\n",
       "    <tr>\n",
       "      <th>std</th>\n",
       "      <td>34928.608856</td>\n",
       "      <td>2.559318</td>\n",
       "      <td>0.0</td>\n",
       "      <td>7.040855</td>\n",
       "      <td>6.259121</td>\n",
       "      <td>6.005746e+06</td>\n",
       "      <td>21941.656285</td>\n",
       "      <td>4.670207</td>\n",
       "      <td>6.750148</td>\n",
       "      <td>7.000456</td>\n",
       "      <td>...</td>\n",
       "      <td>15.652208</td>\n",
       "      <td>12.329739</td>\n",
       "      <td>20.453699</td>\n",
       "      <td>21.336404</td>\n",
       "      <td>20.935273</td>\n",
       "      <td>17.67047</td>\n",
       "      <td>16.834294</td>\n",
       "      <td>16.476466</td>\n",
       "      <td>16.998697</td>\n",
       "      <td>17.980143</td>\n",
       "    </tr>\n",
       "    <tr>\n",
       "      <th>min</th>\n",
       "      <td>2.000000</td>\n",
       "      <td>15.000000</td>\n",
       "      <td>2.0</td>\n",
       "      <td>40.000000</td>\n",
       "      <td>40.000000</td>\n",
       "      <td>1.000000e+03</td>\n",
       "      <td>500.000000</td>\n",
       "      <td>16.000000</td>\n",
       "      <td>154.000000</td>\n",
       "      <td>49.000000</td>\n",
       "      <td>...</td>\n",
       "      <td>5.000000</td>\n",
       "      <td>3.000000</td>\n",
       "      <td>1.000000</td>\n",
       "      <td>2.000000</td>\n",
       "      <td>3.000000</td>\n",
       "      <td>1.00000</td>\n",
       "      <td>1.000000</td>\n",
       "      <td>1.000000</td>\n",
       "      <td>1.000000</td>\n",
       "      <td>1.000000</td>\n",
       "    </tr>\n",
       "    <tr>\n",
       "      <th>25%</th>\n",
       "      <td>199159.000000</td>\n",
       "      <td>17.000000</td>\n",
       "      <td>2.0</td>\n",
       "      <td>61.000000</td>\n",
       "      <td>66.000000</td>\n",
       "      <td>3.250000e+05</td>\n",
       "      <td>2000.000000</td>\n",
       "      <td>21.000000</td>\n",
       "      <td>176.000000</td>\n",
       "      <td>70.000000</td>\n",
       "      <td>...</td>\n",
       "      <td>39.000000</td>\n",
       "      <td>50.000000</td>\n",
       "      <td>26.000000</td>\n",
       "      <td>27.000000</td>\n",
       "      <td>25.000000</td>\n",
       "      <td>8.00000</td>\n",
       "      <td>8.000000</td>\n",
       "      <td>8.000000</td>\n",
       "      <td>8.000000</td>\n",
       "      <td>8.000000</td>\n",
       "    </tr>\n",
       "    <tr>\n",
       "      <th>50%</th>\n",
       "      <td>220621.000000</td>\n",
       "      <td>19.000000</td>\n",
       "      <td>2.0</td>\n",
       "      <td>66.000000</td>\n",
       "      <td>70.000000</td>\n",
       "      <td>7.250000e+05</td>\n",
       "      <td>4000.000000</td>\n",
       "      <td>25.000000</td>\n",
       "      <td>181.000000</td>\n",
       "      <td>75.000000</td>\n",
       "      <td>...</td>\n",
       "      <td>50.000000</td>\n",
       "      <td>59.000000</td>\n",
       "      <td>50.000000</td>\n",
       "      <td>54.000000</td>\n",
       "      <td>52.000000</td>\n",
       "      <td>11.00000</td>\n",
       "      <td>11.000000</td>\n",
       "      <td>11.000000</td>\n",
       "      <td>11.000000</td>\n",
       "      <td>11.000000</td>\n",
       "    </tr>\n",
       "    <tr>\n",
       "      <th>75%</th>\n",
       "      <td>236958.000000</td>\n",
       "      <td>21.000000</td>\n",
       "      <td>2.0</td>\n",
       "      <td>70.000000</td>\n",
       "      <td>75.000000</td>\n",
       "      <td>1.800000e+06</td>\n",
       "      <td>10000.000000</td>\n",
       "      <td>28.000000</td>\n",
       "      <td>186.000000</td>\n",
       "      <td>80.000000</td>\n",
       "      <td>...</td>\n",
       "      <td>60.000000</td>\n",
       "      <td>66.000000</td>\n",
       "      <td>63.000000</td>\n",
       "      <td>66.000000</td>\n",
       "      <td>64.000000</td>\n",
       "      <td>14.00000</td>\n",
       "      <td>14.000000</td>\n",
       "      <td>14.000000</td>\n",
       "      <td>14.000000</td>\n",
       "      <td>14.000000</td>\n",
       "    </tr>\n",
       "    <tr>\n",
       "      <th>max</th>\n",
       "      <td>271817.000000</td>\n",
       "      <td>23.000000</td>\n",
       "      <td>2.0</td>\n",
       "      <td>94.000000</td>\n",
       "      <td>95.000000</td>\n",
       "      <td>1.940000e+08</td>\n",
       "      <td>575000.000000</td>\n",
       "      <td>54.000000</td>\n",
       "      <td>208.000000</td>\n",
       "      <td>110.000000</td>\n",
       "      <td>...</td>\n",
       "      <td>96.000000</td>\n",
       "      <td>96.000000</td>\n",
       "      <td>94.000000</td>\n",
       "      <td>94.000000</td>\n",
       "      <td>95.000000</td>\n",
       "      <td>91.00000</td>\n",
       "      <td>92.000000</td>\n",
       "      <td>95.000000</td>\n",
       "      <td>92.000000</td>\n",
       "      <td>94.000000</td>\n",
       "    </tr>\n",
       "  </tbody>\n",
       "</table>\n",
       "<p>8 rows × 59 columns</p>\n",
       "</div>"
      ],
      "text/plain": [
       "           player_id   fifa_version  fifa_update        overall   \n",
       "count  161583.000000  161583.000000     161583.0  161583.000000  \\\n",
       "mean   214484.722353      19.125514          2.0      65.699071   \n",
       "std     34928.608856       2.559318          0.0       7.040855   \n",
       "min         2.000000      15.000000          2.0      40.000000   \n",
       "25%    199159.000000      17.000000          2.0      61.000000   \n",
       "50%    220621.000000      19.000000          2.0      66.000000   \n",
       "75%    236958.000000      21.000000          2.0      70.000000   \n",
       "max    271817.000000      23.000000          2.0      94.000000   \n",
       "\n",
       "           potential     value_eur       wage_eur            age   \n",
       "count  161583.000000  1.595300e+05  159822.000000  161583.000000  \\\n",
       "mean       70.744008  2.326770e+06   10855.409768      25.123181   \n",
       "std         6.259121  6.005746e+06   21941.656285       4.670207   \n",
       "min        40.000000  1.000000e+03     500.000000      16.000000   \n",
       "25%        66.000000  3.250000e+05    2000.000000      21.000000   \n",
       "50%        70.000000  7.250000e+05    4000.000000      25.000000   \n",
       "75%        75.000000  1.800000e+06   10000.000000      28.000000   \n",
       "max        95.000000  1.940000e+08  575000.000000      54.000000   \n",
       "\n",
       "           height_cm      weight_kg  ...  mentality_penalties   \n",
       "count  161583.000000  161583.000000  ...        161583.000000  \\\n",
       "mean      181.240205      75.235031  ...            48.668492   \n",
       "std         6.750148       7.000456  ...            15.652208   \n",
       "min       154.000000      49.000000  ...             5.000000   \n",
       "25%       176.000000      70.000000  ...            39.000000   \n",
       "50%       181.000000      75.000000  ...            50.000000   \n",
       "75%       186.000000      80.000000  ...            60.000000   \n",
       "max       208.000000     110.000000  ...            96.000000   \n",
       "\n",
       "       mentality_composure  defending_marking_awareness   \n",
       "count        128722.000000                161583.000000  \\\n",
       "mean             57.816892                    45.757957   \n",
       "std              12.329739                    20.453699   \n",
       "min               3.000000                     1.000000   \n",
       "25%              50.000000                    26.000000   \n",
       "50%              59.000000                    50.000000   \n",
       "75%              66.000000                    63.000000   \n",
       "max              96.000000                    94.000000   \n",
       "\n",
       "       defending_standing_tackle  defending_sliding_tackle   \n",
       "count              161583.000000             161583.000000  \\\n",
       "mean                   47.669996                 45.698588   \n",
       "std                    21.336404                 20.935273   \n",
       "min                     2.000000                  3.000000   \n",
       "25%                    27.000000                 25.000000   \n",
       "50%                    54.000000                 52.000000   \n",
       "75%                    66.000000                 64.000000   \n",
       "max                    94.000000                 95.000000   \n",
       "\n",
       "       goalkeeping_diving  goalkeeping_handling  goalkeeping_kicking   \n",
       "count        161583.00000         161583.000000        161583.000000  \\\n",
       "mean             16.52961             16.274918            16.140374   \n",
       "std              17.67047             16.834294            16.476466   \n",
       "min               1.00000              1.000000             1.000000   \n",
       "25%               8.00000              8.000000             8.000000   \n",
       "50%              11.00000             11.000000            11.000000   \n",
       "75%              14.00000             14.000000            14.000000   \n",
       "max              91.00000             92.000000            95.000000   \n",
       "\n",
       "       goalkeeping_positioning  goalkeeping_reflexes  \n",
       "count            161583.000000         161583.000000  \n",
       "mean                 16.288861             16.636973  \n",
       "std                  16.998697             17.980143  \n",
       "min                   1.000000              1.000000  \n",
       "25%                   8.000000              8.000000  \n",
       "50%                  11.000000             11.000000  \n",
       "75%                  14.000000             14.000000  \n",
       "max                  92.000000             94.000000  \n",
       "\n",
       "[8 rows x 59 columns]"
      ]
     },
     "execution_count": 39,
     "metadata": {},
     "output_type": "execute_result"
    }
   ],
   "source": [
    "df.describe()"
   ]
  },
  {
   "cell_type": "code",
   "execution_count": 41,
   "metadata": {},
   "outputs": [
    {
     "data": {
      "text/plain": [
       "Index(['player_url', 'fifa_update_date', 'short_name', 'long_name',\n",
       "       'player_positions', 'dob', 'league_name', 'club_name', 'club_position',\n",
       "       'club_joined_date', 'nationality_name', 'preferred_foot', 'work_rate',\n",
       "       'body_type', 'real_face', 'ls', 'st', 'rs', 'lw', 'lf', 'cf', 'rf',\n",
       "       'rw', 'lam', 'cam', 'ram', 'lm', 'lcm', 'cm', 'rcm', 'rm', 'lwb', 'ldm',\n",
       "       'cdm', 'rdm', 'rwb', 'lb', 'lcb', 'cb', 'rcb', 'rb', 'gk',\n",
       "       'player_face_url'],\n",
       "      dtype='object')"
      ]
     },
     "execution_count": 41,
     "metadata": {},
     "output_type": "execute_result"
    }
   ],
   "source": [
    "# print column names of type object\n",
    "df.select_dtypes(include = 'object').columns"
   ]
  },
  {
   "cell_type": "code",
   "execution_count": 54,
   "metadata": {},
   "outputs": [
    {
     "name": "stdout",
     "output_type": "stream",
     "text": [
      "(161583,)\n",
      "(49699,)\n",
      "(50360,)\n",
      "(46053,)\n",
      "Column name: player_url, \t\tunique values: (161583,)\n",
      "Column name: fifa_update_date, \t\tunique values: (9,)\n",
      "Column name: short_name, \t\tunique values: (46053,)\n",
      "Column name: long_name, \t\tunique values: (50360,)\n",
      "Column name: player_positions, \t\tunique values: (1980,)\n",
      "Column name: dob, \t\tunique values: (9200,)\n",
      "Column name: league_name, \t\tunique values: (45,)\n",
      "Column name: club_name, \t\tunique values: (1410,)\n",
      "Column name: club_position, \t\tunique values: (30,)\n",
      "Column name: club_joined_date, \t\tunique values: (4083,)\n",
      "Column name: nationality_name, \t\tunique values: (185,)\n",
      "Column name: preferred_foot, \t\tunique values: (2,)\n",
      "Column name: work_rate, \t\tunique values: (9,)\n",
      "Column name: body_type, \t\tunique values: (10,)\n",
      "Column name: real_face, \t\tunique values: (2,)\n",
      "Column name: ls, \t\tunique values: (400,)\n",
      "Column name: st, \t\tunique values: (400,)\n",
      "Column name: rs, \t\tunique values: (400,)\n",
      "Column name: lw, \t\tunique values: (337,)\n",
      "Column name: lf, \t\tunique values: (308,)\n",
      "Column name: cf, \t\tunique values: (308,)\n",
      "Column name: rf, \t\tunique values: (308,)\n",
      "Column name: rw, \t\tunique values: (337,)\n",
      "Column name: lam, \t\tunique values: (437,)\n",
      "Column name: cam, \t\tunique values: (437,)\n",
      "Column name: ram, \t\tunique values: (437,)\n",
      "Column name: lm, \t\tunique values: (417,)\n",
      "Column name: lcm, \t\tunique values: (386,)\n",
      "Column name: cm, \t\tunique values: (386,)\n",
      "Column name: rcm, \t\tunique values: (386,)\n",
      "Column name: rm, \t\tunique values: (417,)\n",
      "Column name: lwb, \t\tunique values: (397,)\n",
      "Column name: ldm, \t\tunique values: (429,)\n",
      "Column name: cdm, \t\tunique values: (429,)\n",
      "Column name: rdm, \t\tunique values: (429,)\n",
      "Column name: rwb, \t\tunique values: (397,)\n",
      "Column name: lb, \t\tunique values: (393,)\n",
      "Column name: lcb, \t\tunique values: (475,)\n",
      "Column name: cb, \t\tunique values: (475,)\n",
      "Column name: rcb, \t\tunique values: (475,)\n",
      "Column name: rb, \t\tunique values: (393,)\n",
      "Column name: gk, \t\tunique values: (297,)\n",
      "Column name: player_face_url, \t\tunique values: (161581,)\n"
     ]
    }
   ],
   "source": [
    "# df['player_url']            # drop\n",
    "# df['short_name']            # drop\n",
    "# df['long_name']             # drop\n",
    "# df['fifa_update_date']      # drop\n",
    "\n",
    "\n",
    "\n",
    "# print(df['player_id'].shape)\n",
    "# print(df['player_id'].unique().shape)\n",
    "\n",
    "# print(df['long_name'].unique().shape)\n",
    "# print(df['short_name'].unique().shape)\n",
    "# for column in df.select_dtypes(include = 'object').columns:\n",
    "#     print(f\"Column name: {column}, \\t\\tunique values: {df[column].unique().shape}\")"
   ]
  },
  {
   "cell_type": "code",
   "execution_count": 40,
   "metadata": {},
   "outputs": [
    {
     "ename": "ValueError",
     "evalue": "could not convert string to float: '/player/158023/lionel-messi/150002'",
     "output_type": "error",
     "traceback": [
      "\u001b[1;31m---------------------------------------------------------------------------\u001b[0m",
      "\u001b[1;31mValueError\u001b[0m                                Traceback (most recent call last)",
      "Cell \u001b[1;32mIn[40], line 2\u001b[0m\n\u001b[0;32m      1\u001b[0m \u001b[38;5;66;03m# making a heatmap of the correlation matrix\u001b[39;00m\n\u001b[1;32m----> 2\u001b[0m sns\u001b[38;5;241m.\u001b[39mheatmap(\u001b[43mdf\u001b[49m\u001b[38;5;241;43m.\u001b[39;49m\u001b[43mcorr\u001b[49m\u001b[43m(\u001b[49m\u001b[43m)\u001b[49m, cbar \u001b[38;5;241m=\u001b[39m \u001b[38;5;28;01mTrue\u001b[39;00m, annot \u001b[38;5;241m=\u001b[39m \u001b[38;5;28;01mTrue\u001b[39;00m, cmap\u001b[38;5;241m=\u001b[39m\u001b[38;5;124m'\u001b[39m\u001b[38;5;124mRdPu\u001b[39m\u001b[38;5;124m'\u001b[39m, linewidths\u001b[38;5;241m=\u001b[39m\u001b[38;5;241m1\u001b[39m, linecolor\u001b[38;5;241m=\u001b[39m\u001b[38;5;124m'\u001b[39m\u001b[38;5;124mblack\u001b[39m\u001b[38;5;124m'\u001b[39m)\n\u001b[0;32m      3\u001b[0m plt\u001b[38;5;241m.\u001b[39mtitle(\u001b[38;5;124m'\u001b[39m\u001b[38;5;124mCorrelation Matrix\u001b[39m\u001b[38;5;124m'\u001b[39m)\n\u001b[0;32m      4\u001b[0m plt\u001b[38;5;241m.\u001b[39mshow()\n",
      "File \u001b[1;32mc:\\Users\\DELL\\AppData\\Local\\Programs\\Python\\Python310\\lib\\site-packages\\pandas\\core\\frame.py:10054\u001b[0m, in \u001b[0;36mDataFrame.corr\u001b[1;34m(self, method, min_periods, numeric_only)\u001b[0m\n\u001b[0;32m  10052\u001b[0m cols \u001b[38;5;241m=\u001b[39m data\u001b[38;5;241m.\u001b[39mcolumns\n\u001b[0;32m  10053\u001b[0m idx \u001b[38;5;241m=\u001b[39m cols\u001b[38;5;241m.\u001b[39mcopy()\n\u001b[1;32m> 10054\u001b[0m mat \u001b[38;5;241m=\u001b[39m \u001b[43mdata\u001b[49m\u001b[38;5;241;43m.\u001b[39;49m\u001b[43mto_numpy\u001b[49m\u001b[43m(\u001b[49m\u001b[43mdtype\u001b[49m\u001b[38;5;241;43m=\u001b[39;49m\u001b[38;5;28;43mfloat\u001b[39;49m\u001b[43m,\u001b[49m\u001b[43m \u001b[49m\u001b[43mna_value\u001b[49m\u001b[38;5;241;43m=\u001b[39;49m\u001b[43mnp\u001b[49m\u001b[38;5;241;43m.\u001b[39;49m\u001b[43mnan\u001b[49m\u001b[43m,\u001b[49m\u001b[43m \u001b[49m\u001b[43mcopy\u001b[49m\u001b[38;5;241;43m=\u001b[39;49m\u001b[38;5;28;43;01mFalse\u001b[39;49;00m\u001b[43m)\u001b[49m\n\u001b[0;32m  10056\u001b[0m \u001b[38;5;28;01mif\u001b[39;00m method \u001b[38;5;241m==\u001b[39m \u001b[38;5;124m\"\u001b[39m\u001b[38;5;124mpearson\u001b[39m\u001b[38;5;124m\"\u001b[39m:\n\u001b[0;32m  10057\u001b[0m     correl \u001b[38;5;241m=\u001b[39m libalgos\u001b[38;5;241m.\u001b[39mnancorr(mat, minp\u001b[38;5;241m=\u001b[39mmin_periods)\n",
      "File \u001b[1;32mc:\\Users\\DELL\\AppData\\Local\\Programs\\Python\\Python310\\lib\\site-packages\\pandas\\core\\frame.py:1837\u001b[0m, in \u001b[0;36mDataFrame.to_numpy\u001b[1;34m(self, dtype, copy, na_value)\u001b[0m\n\u001b[0;32m   1835\u001b[0m \u001b[38;5;28;01mif\u001b[39;00m dtype \u001b[38;5;129;01mis\u001b[39;00m \u001b[38;5;129;01mnot\u001b[39;00m \u001b[38;5;28;01mNone\u001b[39;00m:\n\u001b[0;32m   1836\u001b[0m     dtype \u001b[38;5;241m=\u001b[39m np\u001b[38;5;241m.\u001b[39mdtype(dtype)\n\u001b[1;32m-> 1837\u001b[0m result \u001b[38;5;241m=\u001b[39m \u001b[38;5;28;43mself\u001b[39;49m\u001b[38;5;241;43m.\u001b[39;49m\u001b[43m_mgr\u001b[49m\u001b[38;5;241;43m.\u001b[39;49m\u001b[43mas_array\u001b[49m\u001b[43m(\u001b[49m\u001b[43mdtype\u001b[49m\u001b[38;5;241;43m=\u001b[39;49m\u001b[43mdtype\u001b[49m\u001b[43m,\u001b[49m\u001b[43m \u001b[49m\u001b[43mcopy\u001b[49m\u001b[38;5;241;43m=\u001b[39;49m\u001b[43mcopy\u001b[49m\u001b[43m,\u001b[49m\u001b[43m \u001b[49m\u001b[43mna_value\u001b[49m\u001b[38;5;241;43m=\u001b[39;49m\u001b[43mna_value\u001b[49m\u001b[43m)\u001b[49m\n\u001b[0;32m   1838\u001b[0m \u001b[38;5;28;01mif\u001b[39;00m result\u001b[38;5;241m.\u001b[39mdtype \u001b[38;5;129;01mis\u001b[39;00m \u001b[38;5;129;01mnot\u001b[39;00m dtype:\n\u001b[0;32m   1839\u001b[0m     result \u001b[38;5;241m=\u001b[39m np\u001b[38;5;241m.\u001b[39marray(result, dtype\u001b[38;5;241m=\u001b[39mdtype, copy\u001b[38;5;241m=\u001b[39m\u001b[38;5;28;01mFalse\u001b[39;00m)\n",
      "File \u001b[1;32mc:\\Users\\DELL\\AppData\\Local\\Programs\\Python\\Python310\\lib\\site-packages\\pandas\\core\\internals\\managers.py:1732\u001b[0m, in \u001b[0;36mBlockManager.as_array\u001b[1;34m(self, dtype, copy, na_value)\u001b[0m\n\u001b[0;32m   1730\u001b[0m         arr\u001b[38;5;241m.\u001b[39mflags\u001b[38;5;241m.\u001b[39mwriteable \u001b[38;5;241m=\u001b[39m \u001b[38;5;28;01mFalse\u001b[39;00m\n\u001b[0;32m   1731\u001b[0m \u001b[38;5;28;01melse\u001b[39;00m:\n\u001b[1;32m-> 1732\u001b[0m     arr \u001b[38;5;241m=\u001b[39m \u001b[38;5;28;43mself\u001b[39;49m\u001b[38;5;241;43m.\u001b[39;49m\u001b[43m_interleave\u001b[49m\u001b[43m(\u001b[49m\u001b[43mdtype\u001b[49m\u001b[38;5;241;43m=\u001b[39;49m\u001b[43mdtype\u001b[49m\u001b[43m,\u001b[49m\u001b[43m \u001b[49m\u001b[43mna_value\u001b[49m\u001b[38;5;241;43m=\u001b[39;49m\u001b[43mna_value\u001b[49m\u001b[43m)\u001b[49m\n\u001b[0;32m   1733\u001b[0m     \u001b[38;5;66;03m# The underlying data was copied within _interleave, so no need\u001b[39;00m\n\u001b[0;32m   1734\u001b[0m     \u001b[38;5;66;03m# to further copy if copy=True or setting na_value\u001b[39;00m\n\u001b[0;32m   1736\u001b[0m \u001b[38;5;28;01mif\u001b[39;00m na_value \u001b[38;5;129;01mis\u001b[39;00m \u001b[38;5;129;01mnot\u001b[39;00m lib\u001b[38;5;241m.\u001b[39mno_default:\n",
      "File \u001b[1;32mc:\\Users\\DELL\\AppData\\Local\\Programs\\Python\\Python310\\lib\\site-packages\\pandas\\core\\internals\\managers.py:1794\u001b[0m, in \u001b[0;36mBlockManager._interleave\u001b[1;34m(self, dtype, na_value)\u001b[0m\n\u001b[0;32m   1792\u001b[0m     \u001b[38;5;28;01melse\u001b[39;00m:\n\u001b[0;32m   1793\u001b[0m         arr \u001b[38;5;241m=\u001b[39m blk\u001b[38;5;241m.\u001b[39mget_values(dtype)\n\u001b[1;32m-> 1794\u001b[0m     \u001b[43mresult\u001b[49m\u001b[43m[\u001b[49m\u001b[43mrl\u001b[49m\u001b[38;5;241;43m.\u001b[39;49m\u001b[43mindexer\u001b[49m\u001b[43m]\u001b[49m \u001b[38;5;241m=\u001b[39m arr\n\u001b[0;32m   1795\u001b[0m     itemmask[rl\u001b[38;5;241m.\u001b[39mindexer] \u001b[38;5;241m=\u001b[39m \u001b[38;5;241m1\u001b[39m\n\u001b[0;32m   1797\u001b[0m \u001b[38;5;28;01mif\u001b[39;00m \u001b[38;5;129;01mnot\u001b[39;00m itemmask\u001b[38;5;241m.\u001b[39mall():\n",
      "\u001b[1;31mValueError\u001b[0m: could not convert string to float: '/player/158023/lionel-messi/150002'"
     ]
    }
   ],
   "source": [
    "# # making a heatmap of the correlation matrix\n",
    "# sns.heatmap(df.corr(), cbar = True, annot = True, cmap='RdPu', linewidths=1, linecolor='black')\n",
    "# plt.title('Correlation Matrix')\n",
    "# plt.show()\n"
   ]
  },
  {
   "cell_type": "code",
   "execution_count": null,
   "metadata": {},
   "outputs": [],
   "source": []
  }
 ],
 "metadata": {
  "kernelspec": {
   "display_name": "Python 3",
   "language": "python",
   "name": "python3"
  },
  "language_info": {
   "codemirror_mode": {
    "name": "ipython",
    "version": 3
   },
   "file_extension": ".py",
   "mimetype": "text/x-python",
   "name": "python",
   "nbconvert_exporter": "python",
   "pygments_lexer": "ipython3",
   "version": "3.10.7"
  }
 },
 "nbformat": 4,
 "nbformat_minor": 2
}
