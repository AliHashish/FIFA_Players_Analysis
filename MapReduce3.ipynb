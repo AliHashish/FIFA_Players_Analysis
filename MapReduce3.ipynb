{
 "cells": [
  {
   "cell_type": "code",
   "execution_count": 1,
   "metadata": {},
   "outputs": [],
   "source": [
    "import os\n",
    "import numpy as np\n",
    "import pandas as pd\n",
    "import threading\n",
    "from tqdm import tqdm"
   ]
  },
  {
   "cell_type": "code",
   "execution_count": 2,
   "metadata": {},
   "outputs": [
    {
     "name": "stdout",
     "output_type": "stream",
     "text": [
      "158581\n"
     ]
    }
   ],
   "source": [
    "dataset = \"male_players (legacy)_23\"\n",
    "# dataset = \"female_players (legacy)_23\"\n",
    "df = pd.read_csv('Data/Preprocessed/Normalized_'+dataset+'.csv')\n",
    "# df = pd.read_csv('Data/Preprocessed/Clean_'+dataset+'.csv')\n",
    "print(len(df))"
   ]
  },
  {
   "cell_type": "code",
   "execution_count": 3,
   "metadata": {},
   "outputs": [],
   "source": [
    "# Selecting the features\n",
    "selected_features = ['movement_reactions', 'potential', 'wage_eur', 'mentality_composure', 'value_eur', 'rcm', 'cm', 'lcm', 'attacking_short_passing', 'mentality_vision', 'ram', 'cam', 'lam', 'international_reputation', 'skill_long_passing']\n",
    "label = 'overall'\n",
    "# Drop other columns\n",
    "df = df[[label] + selected_features ]"
   ]
  },
  {
   "cell_type": "code",
   "execution_count": 4,
   "metadata": {},
   "outputs": [
    {
     "name": "stdout",
     "output_type": "stream",
     "text": [
      "Train size: 111006\n",
      "Validation size: 31716\n",
      "Test size: 15859\n",
      "\n",
      "Train ratio: 70%\n",
      "Validation ratio: 20%\n",
      "Test ratio: 10%\n"
     ]
    }
   ],
   "source": [
    "from sklearn.model_selection import train_test_split\n",
    "\n",
    "# split the dataset into train, test, and validation sets\n",
    "# splitting into 70% train, 20% validation and 10% test\n",
    "train, test = train_test_split(df, test_size=0.1, random_state=42)\n",
    "train, val = train_test_split(train, test_size=2/9, random_state=42)\n",
    "\n",
    "print(f\"Train size: {len(train)}\\nValidation size: {len(val)}\\nTest size: {len(test)}\\n\")\n",
    "print(f\"Train ratio: {round(100*len(train)/len(df))}%\\nValidation ratio: {round(100*len(val)/len(df))}%\\nTest ratio: {round(100*len(test)/len(df))}%\")"
   ]
  },
  {
   "cell_type": "markdown",
   "metadata": {},
   "source": [
    "# First Approach\n",
    "(With local sort)"
   ]
  },
  {
   "cell_type": "code",
   "execution_count": 5,
   "metadata": {},
   "outputs": [],
   "source": [
    "def KNNMapper2(df, point, K, results, i):\n",
    "    # df: A part of the dataset\n",
    "    # point: the point to find the K nearest neighbors for\n",
    "    # K: the number of nearest neighbors\n",
    "\n",
    "    # calculate the distance between the point and all the points in the dataset based on the selected features\n",
    "    df['distance'] = np.sqrt(np.sum((df[selected_features] - point[selected_features])**2, axis=1))\n",
    "    # results[i] = df[['overall', 'distance']]\n",
    "    \n",
    "    # Then sort them locally (merger)\n",
    "    results[i] = df[['overall', 'distance']].sort_values('distance').head(K)\n",
    "\n",
    "def Map2(df, n, point, K):\n",
    "    # df: the whole dataset\n",
    "    # n: the number of threads\n",
    "    # point: the point to find the K nearest neighbors for\n",
    "    # K: the number of nearest neighbors\n",
    "\n",
    "    # split the dataset into n parts\n",
    "    df_split = np.array_split(df, n)\n",
    "\n",
    "    # create a list to store the results\n",
    "    results = [None] * n\n",
    "\n",
    "    # create n threads\n",
    "    threads = []\n",
    "    for i in range(n):\n",
    "        threads.append(threading.Thread(target=KNNMapper2, args=(df_split[i], point, K, results, i)))\n",
    "\n",
    "    # start the threads\n",
    "    for thread in threads:\n",
    "        thread.start()\n",
    "\n",
    "    # wait for all threads to finish\n",
    "    for thread in threads:\n",
    "        thread.join()\n",
    "\n",
    "    return pd.concat(results)\n",
    "\n"
   ]
  },
  {
   "cell_type": "code",
   "execution_count": 6,
   "metadata": {},
   "outputs": [],
   "source": [
    "def Reduce2(overall_distances, K):\n",
    "    # overall_distances: The result of the mapper (has been sorted locally)\n",
    "    # K: the number of nearest neighbors\n",
    "    \n",
    "    # Sort globally and return mean\n",
    "    return np.mean(overall_distances.sort_values('distance').head(K)['overall'])\n"
   ]
  },
  {
   "cell_type": "code",
   "execution_count": 7,
   "metadata": {},
   "outputs": [
    {
     "name": "stdout",
     "output_type": "stream",
     "text": [
      "Predicted value: 0.4444444444444444, Actual value: 0.3888888888888888\n"
     ]
    }
   ],
   "source": [
    "k = 3\n",
    "cores = 8\n",
    "point = val.iloc[0]\n",
    "# Apply mapper on train, this would calculate the distances\n",
    "overall_distances = Map2(train, cores, point, k)\n",
    "\n",
    "# The reducer gets the global K nearest neighbors, and averages their overall values\n",
    "# KNNReducer(df, K, results, i):\n",
    "predicted_value = Reduce2(overall_distances, k)\n",
    "print(f\"Predicted value: {predicted_value}, Actual value: {point['overall']}\")"
   ]
  },
  {
   "cell_type": "code",
   "execution_count": 8,
   "metadata": {},
   "outputs": [],
   "source": [
    "def Evaluate2(train, test, K):\n",
    "    mae = 0; mse = 0; denum = 0\n",
    "    y_mean = train['overall'].mean()\n",
    "    counter = 0; r2score = 0; early_stop = 0.00005\n",
    "\n",
    "    for point in tqdm(test.iterrows()):\n",
    "        prev_r2score = r2score\n",
    "        point = point[1]\n",
    "        overall_distances = Map2(train, cores, point, K)\n",
    "        predicted_value = Reduce2(overall_distances, K)\n",
    "\n",
    "        mae += abs(predicted_value - point['overall'])\n",
    "        mse += (predicted_value - point['overall'])**2\n",
    "        denum += (predicted_value - y_mean)**2\n",
    "        r2score = 1 - mse/denum\n",
    "        counter += 1\n",
    "        \n",
    "        \n",
    "        # if counter % 100 == 0:\n",
    "        #     print(f\"Counter: {counter}, R2 Score: {r2score}, mae: {mae/counter}, mse: {mse/counter}\\n\")\n",
    "        if len(test) > 20000 and counter > 800 and np.abs(r2score - prev_r2score) < early_stop:\n",
    "            break    \n",
    "    \n",
    "    # mae /= len(test)\n",
    "    # mse /= len(test)\n",
    "    mae /= counter\n",
    "    r2 = 1 - mse/denum\n",
    "    mse /= counter\n",
    "    return mae, mse, r2\n",
    "        "
   ]
  },
  {
   "cell_type": "code",
   "execution_count": 9,
   "metadata": {},
   "outputs": [
    {
     "name": "stderr",
     "output_type": "stream",
     "text": [
      "800it [00:35, 22.39it/s]\n"
     ]
    },
    {
     "name": "stdout",
     "output_type": "stream",
     "text": [
      "K: 2, MAE: 0.029361446340223064, MSE: 0.0017099681639377313, R2: 0.8950675648634585\n"
     ]
    },
    {
     "name": "stderr",
     "output_type": "stream",
     "text": [
      "801it [00:36, 21.82it/s]\n"
     ]
    },
    {
     "name": "stdout",
     "output_type": "stream",
     "text": [
      "K: 3, MAE: 0.028678304239401486, MSE: 0.0016249765769998196, R2: 0.8972024384316641\n"
     ]
    },
    {
     "name": "stderr",
     "output_type": "stream",
     "text": [
      "801it [00:36, 22.04it/s]\n"
     ]
    },
    {
     "name": "stdout",
     "output_type": "stream",
     "text": [
      "K: 4, MAE: 0.028863027616145013, MSE: 0.0016152605454812902, R2: 0.8975360349392228\n"
     ]
    },
    {
     "name": "stderr",
     "output_type": "stream",
     "text": [
      "801it [00:37, 21.56it/s]\n"
     ]
    },
    {
     "name": "stdout",
     "output_type": "stream",
     "text": [
      "K: 5, MAE: 0.028742957421261654, MSE: 0.0016035699502957277, R2: 0.8978079467722916\n"
     ]
    },
    {
     "name": "stderr",
     "output_type": "stream",
     "text": [
      "801it [00:35, 22.29it/s]\n"
     ]
    },
    {
     "name": "stdout",
     "output_type": "stream",
     "text": [
      "K: 6, MAE: 0.028501277670022484, MSE: 0.001547628414104198, R2: 0.9011029227404581\n"
     ]
    },
    {
     "name": "stderr",
     "output_type": "stream",
     "text": [
      "800it [00:35, 22.25it/s]\n"
     ]
    },
    {
     "name": "stdout",
     "output_type": "stream",
     "text": [
      "K: 7, MAE: 0.028700896366314625, MSE: 0.0015478188727235903, R2: 0.9005756490588216\n"
     ]
    },
    {
     "name": "stderr",
     "output_type": "stream",
     "text": [
      "801it [00:34, 22.95it/s]\n"
     ]
    },
    {
     "name": "stdout",
     "output_type": "stream",
     "text": [
      "K: 8, MAE: 0.02852244389027425, MSE: 0.0015228988571096278, R2: 0.9009854677076949\n"
     ]
    },
    {
     "name": "stderr",
     "output_type": "stream",
     "text": [
      "800it [00:35, 22.82it/s]\n"
     ]
    },
    {
     "name": "stdout",
     "output_type": "stream",
     "text": [
      "K: 9, MAE: 0.02850089651310342, MSE: 0.0015183490196434143, R2: 0.9011018517794802\n"
     ]
    },
    {
     "name": "stderr",
     "output_type": "stream",
     "text": [
      "800it [00:34, 23.09it/s]"
     ]
    },
    {
     "name": "stdout",
     "output_type": "stream",
     "text": [
      "K: 10, MAE: 0.028573079946363305, MSE: 0.0015114209090488732, R2: 0.901073283913969\n",
      "Best K for MAE: 9, MAE: 0.02850089651310342\n",
      "Best K for MSE: 10, MSE: 0.0015114209090488732\n",
      "Best K for R2: 6, R2: 0.9011029227404581\n"
     ]
    },
    {
     "name": "stderr",
     "output_type": "stream",
     "text": [
      "\n"
     ]
    }
   ],
   "source": [
    "# Using validation to find best K\n",
    "K = list(range(2, 11))\n",
    "\n",
    "min_mae = 99999; min_mse = 99999; max_r2 = -99999\n",
    "min_mae_idx = 0; min_mse_idx = 0; max_r2_idx = 0\n",
    "for k in K:\n",
    "    mae, mse, r2 = Evaluate2(train, val, k)\n",
    "    print(f\"K: {k}, MAE: {mae}, MSE: {mse}, R2: {r2}\")\n",
    "    if r2 > max_r2:\n",
    "        max_r2 = r2\n",
    "        max_r2_idx = k\n",
    "    if mae < min_mae:\n",
    "        min_mae = mae\n",
    "        min_mae_idx = k\n",
    "    if mse < min_mse:\n",
    "        min_mse = mse\n",
    "        min_mse_idx = k\n",
    "\n",
    "print(f\"Best K for MAE: {min_mae_idx}, MAE: {min_mae}\")\n",
    "print(f\"Best K for MSE: {min_mse_idx}, MSE: {min_mse}\")\n",
    "print(f\"Best K for R2: {max_r2_idx}, R2: {max_r2}\")\n",
    "# K: 2, MAE: 0.029361446340223064, MSE: 0.0017099681639377313, R2: 0.8950675648634585\n",
    "# K: 3, MAE: 0.028678304239401486, MSE: 0.0016249765769998196, R2: 0.8972024384316641\n",
    "# K: 4, MAE: 0.028863027616145013, MSE: 0.0016152605454812902, R2: 0.8975360349392228\n",
    "# K: 5, MAE: 0.028742957421261654, MSE: 0.0016035699502957277, R2: 0.8978079467722916\n",
    "# K: 6, MAE: 0.028501277670022484, MSE: 0.001547628414104198, R2: 0.9011029227404581\n",
    "# K: 7, MAE: 0.028700896366314625, MSE: 0.0015478188727235903, R2: 0.9005756490588216\n",
    "# K: 8, MAE: 0.02852244389027425, MSE: 0.0015228988571096278, R2: 0.9009854677076949\n",
    "# K: 9, MAE: 0.02850089651310342, MSE: 0.0015183490196434143, R2: 0.9011018517794802\n",
    "# K: 10, MAE: 0.028573079946363305, MSE: 0.0015114209090488732, R2: 0.901073283913969\n",
    "# Best K for MAE: 9, MAE: 0.02850089651310342\n",
    "# Best K for MSE: 10, MSE: 0.0015114209090488732\n",
    "# Best K for R2: 6, R2: 0.9011029227404581\n"
   ]
  },
  {
   "cell_type": "code",
   "execution_count": 10,
   "metadata": {},
   "outputs": [
    {
     "name": "stderr",
     "output_type": "stream",
     "text": [
      "15859it [13:20, 19.80it/s]"
     ]
    },
    {
     "name": "stdout",
     "output_type": "stream",
     "text": [
      "K: 6, MAE: 0.0277320429494789, MSE: 0.0014919332893030173, R2: 0.9036650877060493\n"
     ]
    },
    {
     "name": "stderr",
     "output_type": "stream",
     "text": [
      "\n"
     ]
    }
   ],
   "source": [
    "mae, mse, r2 = Evaluate2(train, test, max_r2_idx)\n",
    "print(f\"K: {max_r2_idx}, MAE: {mae}, MSE: {mse}, R2: {r2}\")\n",
    "# K: 6, MAE: 0.0277320429494789, MSE: 0.0014919332893030173, R2: 0.9036650877060493"
   ]
  },
  {
   "cell_type": "code",
   "execution_count": null,
   "metadata": {},
   "outputs": [],
   "source": []
  },
  {
   "cell_type": "markdown",
   "metadata": {},
   "source": [
    "# Another approach\n",
    "(Without local sort)"
   ]
  },
  {
   "cell_type": "code",
   "execution_count": 5,
   "metadata": {},
   "outputs": [],
   "source": [
    "def KNNMapper(df, point, K, results, i):\n",
    "    # df: A part of the dataset\n",
    "    # point: the point to find the K nearest neighbors for\n",
    "    # K: the number of nearest neighbors\n",
    "\n",
    "    # calculate the distance between the point and all the points in the dataset based on the selected features\n",
    "    df['distance'] = np.sqrt(np.sum((df[selected_features] - point[selected_features])**2, axis=1))\n",
    "    results[i] = df[['overall', 'distance']]\n",
    "    \n",
    "    # Then sort them locally\n",
    "    # results[i] = df[['overall', 'distance']].sort_values('distance').head(K)\n",
    "\n",
    "def Map(df, n, point, K):\n",
    "    # df: the whole dataset\n",
    "    # n: the number of threads\n",
    "    # point: the point to find the K nearest neighbors for\n",
    "    # K: the number of nearest neighbors\n",
    "\n",
    "    # split the dataset into n parts\n",
    "    df_split = np.array_split(df, n)\n",
    "\n",
    "    # create a list to store the results\n",
    "    results = [None] * n\n",
    "\n",
    "    # create n threads\n",
    "    threads = []\n",
    "    for i in range(n):\n",
    "        threads.append(threading.Thread(target=KNNMapper, args=(df_split[i], point, K, results, i)))\n",
    "\n",
    "    # start the threads\n",
    "    for thread in threads:\n",
    "        thread.start()\n",
    "\n",
    "    # wait for all threads to finish\n",
    "    for thread in threads:\n",
    "        thread.join()\n",
    "\n",
    "    return pd.concat(results)\n",
    "\n"
   ]
  },
  {
   "cell_type": "code",
   "execution_count": 6,
   "metadata": {},
   "outputs": [],
   "source": [
    "def KNNReducer(df, K, results, i):\n",
    "    # df: A part of the dataset\n",
    "    # K: the number of nearest neighbors\n",
    "\n",
    "    # sort the dataset based on the distance (local sort)\n",
    "    df = df.sort_values('distance').head(K)\n",
    "    results[i] = df\n",
    "\n",
    "def Reduce(df, n, K):\n",
    "    # df: the whole dataset\n",
    "    # n: the number of threads\n",
    "    # K: the number of nearest neighbors\n",
    "\n",
    "    # split the dataset into n parts\n",
    "    df_split = np.array_split(df, n)\n",
    "\n",
    "    # create a list to store the results\n",
    "    results = [None] * n\n",
    "\n",
    "    # create n threads\n",
    "    threads = []\n",
    "    for i in range(n):\n",
    "        threads.append(threading.Thread(target=KNNReducer, args=(df_split[i], K, results, i)))\n",
    "    \n",
    "    # start the threads\n",
    "    for thread in threads:\n",
    "        thread.start()\n",
    "\n",
    "    # wait for all threads to finish\n",
    "    for thread in threads:\n",
    "        thread.join()\n",
    "\n",
    "    # Join and sort the results (global sort)\n",
    "    return np.mean(pd.concat(results).sort_values('distance').head(K)['overall'])\n"
   ]
  },
  {
   "cell_type": "code",
   "execution_count": 7,
   "metadata": {},
   "outputs": [
    {
     "name": "stdout",
     "output_type": "stream",
     "text": [
      "Predicted value: 0.4444444444444444, Actual value: 0.3888888888888888\n"
     ]
    }
   ],
   "source": [
    "k = 3\n",
    "cores = 8\n",
    "point = val.iloc[0]\n",
    "# Apply mapper on train, this would calculate the distances\n",
    "overall_distances = Map(train, cores, point, k)\n",
    "# print(overall_distances)\n",
    "\n",
    "# The reducer gets the global K nearest neighbors, and averages their overall values\n",
    "# KNNReducer(df, K, results, i):\n",
    "predicted_value = Reduce(overall_distances, cores, k)\n",
    "print(f\"Predicted value: {predicted_value}, Actual value: {point['overall']}\")"
   ]
  },
  {
   "cell_type": "code",
   "execution_count": 8,
   "metadata": {},
   "outputs": [],
   "source": [
    "def Evaluate(train, test, K):\n",
    "    mae = 0; mse = 0; denum = 0\n",
    "    y_mean = train['overall'].mean()\n",
    "    counter = 0; r2score = 0; early_stop = 0.00005\n",
    "\n",
    "    for point in tqdm(test.iterrows()):\n",
    "        prev_r2score = r2score\n",
    "        point = point[1]\n",
    "        overall_distances = Map(train, cores, point, K)\n",
    "        predicted_value = Reduce(overall_distances, cores, K)\n",
    "\n",
    "        mae += abs(predicted_value - point['overall'])\n",
    "        mse += (predicted_value - point['overall'])**2\n",
    "        denum += (predicted_value - y_mean)**2\n",
    "        r2score = 1 - mse/denum\n",
    "        counter += 1\n",
    "        \n",
    "        if len(test) > 20000 and counter > 800 and np.abs(r2score - prev_r2score) < early_stop:\n",
    "            break\n",
    "\n",
    "\n",
    "    \n",
    "    # mae /= len(test)\n",
    "    # mse /= len(test)\n",
    "    mae /= counter\n",
    "    r2 = 1 - mse/denum\n",
    "    mse /= counter\n",
    "    return mae, mse, r2\n",
    "        "
   ]
  },
  {
   "cell_type": "code",
   "execution_count": 9,
   "metadata": {},
   "outputs": [
    {
     "name": "stderr",
     "output_type": "stream",
     "text": [
      "800it [00:52, 15.35it/s]\n"
     ]
    },
    {
     "name": "stdout",
     "output_type": "stream",
     "text": [
      "K: 2, MAE: 0.029361446340223064, MSE: 0.0017099681639377313, R2: 0.8950675648634585\n"
     ]
    },
    {
     "name": "stderr",
     "output_type": "stream",
     "text": [
      "801it [00:53, 15.08it/s]\n"
     ]
    },
    {
     "name": "stdout",
     "output_type": "stream",
     "text": [
      "K: 3, MAE: 0.028678304239401486, MSE: 0.0016249765769998196, R2: 0.8972024384316641\n"
     ]
    },
    {
     "name": "stderr",
     "output_type": "stream",
     "text": [
      "801it [00:51, 15.50it/s]\n"
     ]
    },
    {
     "name": "stdout",
     "output_type": "stream",
     "text": [
      "K: 4, MAE: 0.028863027616145013, MSE: 0.0016152605454812902, R2: 0.8975360349392228\n"
     ]
    },
    {
     "name": "stderr",
     "output_type": "stream",
     "text": [
      "801it [00:56, 14.09it/s]\n"
     ]
    },
    {
     "name": "stdout",
     "output_type": "stream",
     "text": [
      "K: 5, MAE: 0.028742957421261654, MSE: 0.0016035699502957277, R2: 0.8978079467722916\n"
     ]
    },
    {
     "name": "stderr",
     "output_type": "stream",
     "text": [
      "801it [00:50, 15.91it/s]\n"
     ]
    },
    {
     "name": "stdout",
     "output_type": "stream",
     "text": [
      "K: 6, MAE: 0.028501277670022484, MSE: 0.001547628414104198, R2: 0.9011029227404581\n"
     ]
    },
    {
     "name": "stderr",
     "output_type": "stream",
     "text": [
      "800it [00:46, 17.18it/s]\n"
     ]
    },
    {
     "name": "stdout",
     "output_type": "stream",
     "text": [
      "K: 7, MAE: 0.028700896366314625, MSE: 0.0015478188727235903, R2: 0.9005756490588216\n"
     ]
    },
    {
     "name": "stderr",
     "output_type": "stream",
     "text": [
      "801it [00:56, 14.16it/s]\n"
     ]
    },
    {
     "name": "stdout",
     "output_type": "stream",
     "text": [
      "K: 8, MAE: 0.02852244389027425, MSE: 0.0015228988571096278, R2: 0.9009854677076949\n"
     ]
    },
    {
     "name": "stderr",
     "output_type": "stream",
     "text": [
      "800it [00:47, 16.96it/s]\n"
     ]
    },
    {
     "name": "stdout",
     "output_type": "stream",
     "text": [
      "K: 9, MAE: 0.02850089651310342, MSE: 0.0015183490196434143, R2: 0.9011018517794802\n"
     ]
    },
    {
     "name": "stderr",
     "output_type": "stream",
     "text": [
      "800it [00:55, 14.29it/s]"
     ]
    },
    {
     "name": "stdout",
     "output_type": "stream",
     "text": [
      "K: 10, MAE: 0.028573079946363305, MSE: 0.0015114209090488732, R2: 0.901073283913969\n",
      "Best K for MAE: 9, MAE: 0.02850089651310342\n",
      "Best K for MSE: 10, MSE: 0.0015114209090488732\n",
      "Best K for R2: 6, R2: 0.9011029227404581\n"
     ]
    },
    {
     "name": "stderr",
     "output_type": "stream",
     "text": [
      "\n"
     ]
    }
   ],
   "source": [
    "# Using validation to find best K\n",
    "K = list(range(2, 11))\n",
    "\n",
    "min_mae = 99999; min_mse = 99999; max_r2 = -99999\n",
    "min_mae_idx = 0; min_mse_idx = 0; max_r2_idx = 0\n",
    "for k in K:\n",
    "    mae, mse, r2 = Evaluate(train, val, k)\n",
    "    print(f\"K: {k}, MAE: {mae}, MSE: {mse}, R2: {r2}\")\n",
    "    if r2 > max_r2:\n",
    "        max_r2 = r2\n",
    "        max_r2_idx = k\n",
    "    if mae < min_mae:\n",
    "        min_mae = mae\n",
    "        min_mae_idx = k\n",
    "    if mse < min_mse:\n",
    "        min_mse = mse\n",
    "        min_mse_idx = k\n",
    "\n",
    "print(f\"Best K for MAE: {min_mae_idx}, MAE: {min_mae}\")\n",
    "print(f\"Best K for MSE: {min_mse_idx}, MSE: {min_mse}\")\n",
    "print(f\"Best K for R2: {max_r2_idx}, R2: {max_r2}\")\n",
    "# K: 2, MAE: 0.029361446340223064, MSE: 0.0017099681639377313, R2: 0.8950675648634585\n",
    "# K: 3, MAE: 0.028678304239401486, MSE: 0.0016249765769998196, R2: 0.8972024384316641\n",
    "# K: 4, MAE: 0.028863027616145013, MSE: 0.0016152605454812902, R2: 0.8975360349392228\n",
    "# K: 5, MAE: 0.028742957421261654, MSE: 0.0016035699502957277, R2: 0.8978079467722916\n",
    "# K: 6, MAE: 0.028501277670022484, MSE: 0.001547628414104198, R2: 0.9011029227404581\n",
    "# K: 7, MAE: 0.028700896366314625, MSE: 0.0015478188727235903, R2: 0.9005756490588216\n",
    "# K: 8, MAE: 0.02852244389027425, MSE: 0.0015228988571096278, R2: 0.9009854677076949\n",
    "# K: 9, MAE: 0.02850089651310342, MSE: 0.0015183490196434143, R2: 0.9011018517794802\n",
    "# K: 10, MAE: 0.028573079946363305, MSE: 0.0015114209090488732, R2: 0.901073283913969\n",
    "# Best K for MAE: 9, MAE: 0.02850089651310342\n",
    "# Best K for MSE: 10, MSE: 0.0015114209090488732\n",
    "# Best K for R2: 6, R2: 0.9011029227404581\n"
   ]
  },
  {
   "cell_type": "code",
   "execution_count": 10,
   "metadata": {},
   "outputs": [
    {
     "name": "stderr",
     "output_type": "stream",
     "text": [
      "15859it [15:08, 17.46it/s]"
     ]
    },
    {
     "name": "stdout",
     "output_type": "stream",
     "text": [
      "K: 6, MAE: 0.0277320429494789, MSE: 0.0014919332893030173, R2: 0.9036650877060493\n"
     ]
    },
    {
     "name": "stderr",
     "output_type": "stream",
     "text": [
      "\n"
     ]
    }
   ],
   "source": [
    "mae, mse, r2 = Evaluate(train, test, max_r2_idx)\n",
    "print(f\"K: {max_r2_idx}, MAE: {mae}, MSE: {mse}, R2: {r2}\")\n",
    "# K: 6, MAE: 0.0277320429494789, MSE: 0.0014919332893030173, R2: 0.9036650877060493"
   ]
  },
  {
   "cell_type": "code",
   "execution_count": null,
   "metadata": {},
   "outputs": [],
   "source": []
  }
 ],
 "metadata": {
  "kernelspec": {
   "display_name": "Python 3",
   "language": "python",
   "name": "python3"
  },
  "language_info": {
   "codemirror_mode": {
    "name": "ipython",
    "version": 3
   },
   "file_extension": ".py",
   "mimetype": "text/x-python",
   "name": "python",
   "nbconvert_exporter": "python",
   "pygments_lexer": "ipython3",
   "version": "3.10.7"
  }
 },
 "nbformat": 4,
 "nbformat_minor": 2
}
