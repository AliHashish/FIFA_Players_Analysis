{
 "cells": [
  {
   "cell_type": "code",
   "execution_count": 1,
   "metadata": {},
   "outputs": [
    {
     "name": "stdout",
     "output_type": "stream",
     "text": [
      "Collecting mrjob\n",
      "  Downloading mrjob-0.7.4-py2.py3-none-any.whl.metadata (7.3 kB)\n",
      "Requirement already satisfied: PyYAML>=3.10 in c:\\users\\dell\\appdata\\local\\programs\\python\\python310\\lib\\site-packages (from mrjob) (6.0)\n",
      "Downloading mrjob-0.7.4-py2.py3-none-any.whl (439 kB)\n",
      "   ---------------------------------------- 0.0/439.6 kB ? eta -:--:--\n",
      "   -- ------------------------------------ 30.7/439.6 kB 640.0 kB/s eta 0:00:01\n",
      "   ------- ------------------------------- 81.9/439.6 kB 762.6 kB/s eta 0:00:01\n",
      "   --------- ---------------------------- 112.6/439.6 kB 819.2 kB/s eta 0:00:01\n",
      "   -------------- ----------------------- 163.8/439.6 kB 893.0 kB/s eta 0:00:01\n",
      "   ---------------------- ----------------- 245.8/439.6 kB 1.1 MB/s eta 0:00:01\n",
      "   ----------------------------- ---------- 327.7/439.6 kB 1.2 MB/s eta 0:00:01\n",
      "   ---------------------------------------  430.1/439.6 kB 1.3 MB/s eta 0:00:01\n",
      "   ---------------------------------------- 439.6/439.6 kB 1.3 MB/s eta 0:00:00\n",
      "Installing collected packages: mrjob\n",
      "Successfully installed mrjob-0.7.4\n"
     ]
    },
    {
     "name": "stderr",
     "output_type": "stream",
     "text": [
      "WARNING: Ignoring invalid distribution -atplotlib (c:\\users\\dell\\appdata\\local\\programs\\python\\python310\\lib\\site-packages)\n",
      "WARNING: Ignoring invalid distribution -atplotlib (c:\\users\\dell\\appdata\\local\\programs\\python\\python310\\lib\\site-packages)\n"
     ]
    }
   ],
   "source": [
    "!pip install mrjob"
   ]
  },
  {
   "cell_type": "code",
   "execution_count": 2,
   "metadata": {},
   "outputs": [],
   "source": [
    "from mrjob.job import MRJob"
   ]
  },
  {
   "cell_type": "code",
   "execution_count": 5,
   "metadata": {},
   "outputs": [
    {
     "ename": "AttributeError",
     "evalue": "'WordCount' object has no attribute 'runJob'",
     "output_type": "error",
     "traceback": [
      "\u001b[1;31m---------------------------------------------------------------------------\u001b[0m",
      "\u001b[1;31mAttributeError\u001b[0m                            Traceback (most recent call last)",
      "Cell \u001b[1;32mIn[5], line 15\u001b[0m\n\u001b[0;32m     13\u001b[0m \u001b[38;5;28;01mwith\u001b[39;00m \u001b[38;5;28mopen\u001b[39m(\u001b[38;5;124m'\u001b[39m\u001b[38;5;124mbook.txt\u001b[39m\u001b[38;5;124m'\u001b[39m, \u001b[38;5;124m'\u001b[39m\u001b[38;5;124mr\u001b[39m\u001b[38;5;124m'\u001b[39m) \u001b[38;5;28;01mas\u001b[39;00m fi:\n\u001b[0;32m     14\u001b[0m   row \u001b[38;5;241m=\u001b[39m [(i,line\u001b[38;5;241m.\u001b[39mstrip()) \u001b[38;5;28;01mfor\u001b[39;00m i,line \u001b[38;5;129;01min\u001b[39;00m \u001b[38;5;28menumerate\u001b[39m(fi) \u001b[38;5;28;01mif\u001b[39;00m i\u001b[38;5;241m<\u001b[39m\u001b[38;5;241m1000\u001b[39m] \u001b[38;5;66;03m#fetch only the first 10000 rows \u001b[39;00m\n\u001b[1;32m---> 15\u001b[0m   output \u001b[38;5;241m=\u001b[39m \u001b[38;5;28mlist\u001b[39m(\u001b[43mtask0\u001b[49m\u001b[38;5;241;43m.\u001b[39;49m\u001b[43mrunJob\u001b[49m(row, task0))\n\u001b[0;32m     16\u001b[0m   output \u001b[38;5;241m=\u001b[39m \u001b[38;5;28msorted\u001b[39m(output, key \u001b[38;5;241m=\u001b[39m \u001b[38;5;28;01mlambda\u001b[39;00m x: \u001b[38;5;241m-\u001b[39mx[\u001b[38;5;241m1\u001b[39m]) \u001b[38;5;66;03m# sort the ouput in descending order\u001b[39;00m\n",
      "\u001b[1;31mAttributeError\u001b[0m: 'WordCount' object has no attribute 'runJob'"
     ]
    }
   ],
   "source": [
    "class WordCount(MRJob):\n",
    "  #create a mapper()\n",
    "  def mapper(self, _, line):\n",
    "    for word in line.strip().split(' '):\n",
    "      if len(word) > 0:\n",
    "       yield (word, 1)\n",
    "\n",
    "  #create a reducer()\n",
    "  def reducer(self, word, count):\n",
    "    yield (word, sum(count))\n",
    "\n",
    "task0 = WordCount(args = [])\n",
    "with open('book.txt', 'r') as fi:\n",
    "  row = [(i,line.strip()) for i,line in enumerate(fi) if i<1000] #fetch only the first 10000 rows \n",
    "  output = list(task0.runJob(row, task0))\n",
    "  output = sorted(output, key = lambda x: -x[1]) # sort the ouput in descending order"
   ]
  },
  {
   "cell_type": "code",
   "execution_count": null,
   "metadata": {},
   "outputs": [],
   "source": []
  }
 ],
 "metadata": {
  "kernelspec": {
   "display_name": "Python 3",
   "language": "python",
   "name": "python3"
  },
  "language_info": {
   "codemirror_mode": {
    "name": "ipython",
    "version": 3
   },
   "file_extension": ".py",
   "mimetype": "text/x-python",
   "name": "python",
   "nbconvert_exporter": "python",
   "pygments_lexer": "ipython3",
   "version": "3.10.7"
  }
 },
 "nbformat": 4,
 "nbformat_minor": 2
}
